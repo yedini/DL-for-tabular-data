{
 "cells": [
  {
   "cell_type": "markdown",
   "metadata": {},
   "source": [
    "### 기존 코드에서 수정사항\n",
    "- experiment_name에서 시간 삭제\n",
    "- 기존에 데이터셋 불러오는 lib.Dataset 함수를 사용하지 않음\n",
    "- as_tensor 함수 사용할 때 dtype=torch.float32 지정 --> trainer.py의 118, 119 line도 수정함\n",
    "- 타겟변수의 초기화값을 normal 분포 대신 np.min(train_y) np.max(train_y) 사이의 값을 갖도록 하기 위해 수정 --> odst.py의 ODST 클래스에 ir(어떤 분포 사용할건지), ir_min(uniform일 때 최소값), ir_max(uniform일 때 최대값) 인자 추가하고, ir=='uniform'일 경우 U(np.min(train_y) np.max(train_y)) 를 따르는 값으로 초기화되도록 변경"
   ]
  },
  {
   "cell_type": "code",
   "execution_count": 15,
   "metadata": {},
   "outputs": [],
   "source": [
    "#!pip install tensorboardX\n",
    "#!pip install qhoptim"
   ]
  },
  {
   "cell_type": "code",
   "execution_count": 1,
   "metadata": {},
   "outputs": [
    {
     "name": "stdout",
     "output_type": "stream",
     "text": [
      "env: CUDA_VISIBLE_DEVICES=0\n"
     ]
    }
   ],
   "source": [
    "%load_ext autoreload\n",
    "%autoreload 2\n",
    "%env CUDA_VISIBLE_DEVICES=0\n",
    "import os, sys\n",
    "import time\n",
    "sys.path.insert(0, '..')\n",
    "import numpy as np\n",
    "import matplotlib.pyplot as plt\n",
    "%matplotlib inline\n",
    "import lib\n",
    "import torch, torch.nn as nn\n",
    "import torch.nn.functional as F\n",
    "\n",
    "device = 'cuda' if torch.cuda.is_available() else 'cpu'\n",
    "\n",
    "import pandas as pd\n",
    "from sklearn.preprocessing import LabelEncoder\n",
    "from sklearn.model_selection import train_test_split\n",
    "from sklearn.metrics import mean_squared_error\n",
    "import numpy as np\n",
    "import matplotlib.pyplot as plt\n",
    "import seaborn as sns\n",
    "import time"
   ]
  },
  {
   "cell_type": "markdown",
   "metadata": {},
   "source": [
    "#### 데이터 load & 전처리"
   ]
  },
  {
   "cell_type": "code",
   "execution_count": 2,
   "metadata": {},
   "outputs": [
    {
     "data": {
      "text/html": [
       "<div>\n",
       "<style scoped>\n",
       "    .dataframe tbody tr th:only-of-type {\n",
       "        vertical-align: middle;\n",
       "    }\n",
       "\n",
       "    .dataframe tbody tr th {\n",
       "        vertical-align: top;\n",
       "    }\n",
       "\n",
       "    .dataframe thead th {\n",
       "        text-align: right;\n",
       "    }\n",
       "</style>\n",
       "<table border=\"1\" class=\"dataframe\">\n",
       "  <thead>\n",
       "    <tr style=\"text-align: right;\">\n",
       "      <th></th>\n",
       "      <th>longitude</th>\n",
       "      <th>latitude</th>\n",
       "      <th>housing_median_age</th>\n",
       "      <th>total_rooms</th>\n",
       "      <th>total_bedrooms</th>\n",
       "      <th>population</th>\n",
       "      <th>households</th>\n",
       "      <th>median_income</th>\n",
       "      <th>ocean_proximity</th>\n",
       "    </tr>\n",
       "  </thead>\n",
       "  <tbody>\n",
       "    <tr>\n",
       "      <th>4748</th>\n",
       "      <td>-118.35</td>\n",
       "      <td>34.05</td>\n",
       "      <td>52.0</td>\n",
       "      <td>1971.0</td>\n",
       "      <td>414.0</td>\n",
       "      <td>1065.0</td>\n",
       "      <td>409.0</td>\n",
       "      <td>3.6435</td>\n",
       "      <td>0</td>\n",
       "    </tr>\n",
       "    <tr>\n",
       "      <th>15001</th>\n",
       "      <td>-117.02</td>\n",
       "      <td>32.74</td>\n",
       "      <td>12.0</td>\n",
       "      <td>3301.0</td>\n",
       "      <td>963.0</td>\n",
       "      <td>2000.0</td>\n",
       "      <td>879.0</td>\n",
       "      <td>1.8594</td>\n",
       "      <td>4</td>\n",
       "    </tr>\n",
       "    <tr>\n",
       "      <th>5634</th>\n",
       "      <td>-118.28</td>\n",
       "      <td>33.74</td>\n",
       "      <td>40.0</td>\n",
       "      <td>1751.0</td>\n",
       "      <td>512.0</td>\n",
       "      <td>1939.0</td>\n",
       "      <td>503.0</td>\n",
       "      <td>1.5394</td>\n",
       "      <td>4</td>\n",
       "    </tr>\n",
       "    <tr>\n",
       "      <th>9084</th>\n",
       "      <td>-118.19</td>\n",
       "      <td>34.67</td>\n",
       "      <td>8.0</td>\n",
       "      <td>11275.0</td>\n",
       "      <td>1822.0</td>\n",
       "      <td>5731.0</td>\n",
       "      <td>1692.0</td>\n",
       "      <td>5.0285</td>\n",
       "      <td>1</td>\n",
       "    </tr>\n",
       "    <tr>\n",
       "      <th>10781</th>\n",
       "      <td>-117.90</td>\n",
       "      <td>33.64</td>\n",
       "      <td>36.0</td>\n",
       "      <td>2017.0</td>\n",
       "      <td>357.0</td>\n",
       "      <td>850.0</td>\n",
       "      <td>348.0</td>\n",
       "      <td>5.0532</td>\n",
       "      <td>0</td>\n",
       "    </tr>\n",
       "  </tbody>\n",
       "</table>\n",
       "</div>"
      ],
      "text/plain": [
       "       longitude  latitude  housing_median_age  total_rooms  total_bedrooms  \\\n",
       "4748     -118.35     34.05                52.0       1971.0           414.0   \n",
       "15001    -117.02     32.74                12.0       3301.0           963.0   \n",
       "5634     -118.28     33.74                40.0       1751.0           512.0   \n",
       "9084     -118.19     34.67                 8.0      11275.0          1822.0   \n",
       "10781    -117.90     33.64                36.0       2017.0           357.0   \n",
       "\n",
       "       population  households  median_income  ocean_proximity  \n",
       "4748       1065.0       409.0         3.6435                0  \n",
       "15001      2000.0       879.0         1.8594                4  \n",
       "5634       1939.0       503.0         1.5394                4  \n",
       "9084       5731.0      1692.0         5.0285                1  \n",
       "10781       850.0       348.0         5.0532                0  "
      ]
     },
     "execution_count": 2,
     "metadata": {},
     "output_type": "execute_result"
    }
   ],
   "source": [
    "data = pd.read_csv('housing.csv')\n",
    "\n",
    "# 범주형 변수를 수치형으로 변환\n",
    "le = LabelEncoder()\n",
    "le = le.fit(data['ocean_proximity'])  \n",
    "data['ocean_proximity'] = le.transform(data['ocean_proximity'])\n",
    "\n",
    "# median house value가 500000보다 큰 데이터는 모두 500001로 기록됨 -> 분석에서 제외\n",
    "data = data[data['median_house_value'] != 500001]\n",
    "\n",
    "# na 처리\n",
    "data = data.dropna(axis=0)   # na 값이 포함된 행은 제거\n",
    "\n",
    "X = data.drop('median_house_value', axis=1)\n",
    "y = data['median_house_value']\n",
    "train_x, test_x, train_y, test_y = train_test_split(X, y, test_size=0.2, random_state=777)\n",
    "train_x.head()"
   ]
  },
  {
   "cell_type": "code",
   "execution_count": 3,
   "metadata": {},
   "outputs": [],
   "source": [
    "def getpr2(testy, predy):\n",
    "    result = 1 - sum((testy - predy)**2) / sum((testy - np.mean(testy))**2)\n",
    "    return result"
   ]
  },
  {
   "cell_type": "code",
   "execution_count": 4,
   "metadata": {},
   "outputs": [],
   "source": [
    "train_x, train_y = train_x.values, train_y.values\n",
    "test_x, test_y = test_x.values, test_y.values"
   ]
  },
  {
   "cell_type": "code",
   "execution_count": 5,
   "metadata": {},
   "outputs": [],
   "source": [
    "# validation set 생성\n",
    "train_x, valid_x, train_y, valid_y = train_test_split(train_x, train_y, test_size=0.2, random_state=777)"
   ]
  },
  {
   "cell_type": "markdown",
   "metadata": {},
   "source": [
    "#### Modeling"
   ]
  },
  {
   "cell_type": "code",
   "execution_count": 12,
   "metadata": {},
   "outputs": [],
   "source": [
    "from qhoptim.pyt import QHAdam\n",
    "from tqdm import tqdm\n",
    "from IPython.display import clear_output"
   ]
  },
  {
   "cell_type": "code",
   "execution_count": 24,
   "metadata": {},
   "outputs": [
    {
     "name": "stdout",
     "output_type": "stream",
     "text": [
      "mean = 192398.50738, std = 97339.89818\n"
     ]
    }
   ],
   "source": [
    "mu, std = train_y.mean(), train_y.std()\n",
    "normalize = lambda x: ((x - mu) / std).astype(np.float32)\n",
    "train_y, valid_y, test_y = map(normalize, [train_y, valid_y, test_y])\n",
    "\n",
    "print(\"mean = %.5f, std = %.5f\" % (mu, std))"
   ]
  },
  {
   "cell_type": "code",
   "execution_count": 42,
   "metadata": {},
   "outputs": [
    {
     "name": "stdout",
     "output_type": "stream",
     "text": [
      "experiment: California 0724-4\n"
     ]
    }
   ],
   "source": [
    "experiment_name = 'California 0724-4'  # experiment 이름 지정\n",
    "print(\"experiment:\", experiment_name)"
   ]
  },
  {
   "cell_type": "code",
   "execution_count": 43,
   "metadata": {},
   "outputs": [],
   "source": [
    "in_features = train_x.shape[1]\n",
    "\n",
    "model = nn.Sequential(\n",
    "    lib.DenseBlock(in_features, 128, num_layers=6, tree_dim=3, depth=6, flatten_output=False,\n",
    "                   choice_function=lib.entmax15, bin_function=lib.entmoid15),\n",
    "    lib.Lambda(lambda x: x[..., 0].mean(dim=-1)),  # average first channels of every tree\n",
    "    \n",
    ").to(device)\n",
    "\n",
    "# with torch.no_grad():\n",
    "#     res = model(torch.as_tensor(train_x[:5000], device=device, dtype=torch.float32))\n",
    "    # trigger data-aware init\n",
    "    \n",
    "if torch.cuda.device_count() > 1:\n",
    "    model = nn.DataParallel(model)"
   ]
  },
  {
   "cell_type": "code",
   "execution_count": 44,
   "metadata": {},
   "outputs": [],
   "source": [
    "optimizer_params = { 'nus':(0.7, 1.0), 'betas':(0.95, 0.998) }"
   ]
  },
  {
   "cell_type": "code",
   "execution_count": 45,
   "metadata": {},
   "outputs": [],
   "source": [
    "trainer = lib.Trainer(\n",
    "    model=model, loss_function=F.mse_loss,\n",
    "    experiment_name=experiment_name,\n",
    "    warm_start=False,\n",
    "    Optimizer=QHAdam,\n",
    "    optimizer_params=optimizer_params,\n",
    "    verbose=True,\n",
    "    n_last_checkpoints=5\n",
    ")"
   ]
  },
  {
   "cell_type": "code",
   "execution_count": 46,
   "metadata": {},
   "outputs": [],
   "source": [
    "loss_history, mse_history = [], []\n",
    "best_mse = float('inf')\n",
    "best_step_mse = 0\n",
    "early_stopping_rounds = 100\n",
    "report_frequency = 50"
   ]
  },
  {
   "cell_type": "code",
   "execution_count": 47,
   "metadata": {
    "scrolled": true
   },
   "outputs": [
    {
     "name": "stderr",
     "output_type": "stream",
     "text": [
      "49it [04:27,  5.33s/it]"
     ]
    },
    {
     "name": "stdout",
     "output_type": "stream",
     "text": [
      "Saved logs/California 0724-4\\checkpoint_temp_50.pth\n",
      "Loaded logs/California 0724-4\\checkpoint_avg.pth\n"
     ]
    },
    {
     "name": "stderr",
     "output_type": "stream",
     "text": [
      "\r",
      "50it [04:37,  6.86s/it]"
     ]
    },
    {
     "name": "stdout",
     "output_type": "stream",
     "text": [
      "Saved logs/California 0724-4\\checkpoint_best_mse.pth\n",
      "Loaded logs/California 0724-4\\checkpoint_temp_50.pth\n",
      "iteration:50 loss:0.795038104057312 mse:0.8481542468070984\n"
     ]
    },
    {
     "name": "stderr",
     "output_type": "stream",
     "text": [
      "99it [08:53,  5.76s/it]"
     ]
    },
    {
     "name": "stdout",
     "output_type": "stream",
     "text": [
      "Saved logs/California 0724-4\\checkpoint_temp_100.pth\n",
      "Loaded logs/California 0724-4\\checkpoint_avg.pth\n"
     ]
    },
    {
     "name": "stderr",
     "output_type": "stream",
     "text": [
      "\r",
      "100it [09:05,  7.47s/it]"
     ]
    },
    {
     "name": "stdout",
     "output_type": "stream",
     "text": [
      "Saved logs/California 0724-4\\checkpoint_best_mse.pth\n",
      "Loaded logs/California 0724-4\\checkpoint_temp_100.pth\n",
      "iteration:100 loss:0.7286220788955688 mse:0.8014309406280518\n"
     ]
    },
    {
     "name": "stderr",
     "output_type": "stream",
     "text": [
      "149it [13:35,  5.96s/it]"
     ]
    },
    {
     "name": "stdout",
     "output_type": "stream",
     "text": [
      "Saved logs/California 0724-4\\checkpoint_temp_150.pth\n",
      "Loaded logs/California 0724-4\\checkpoint_avg.pth\n"
     ]
    },
    {
     "name": "stderr",
     "output_type": "stream",
     "text": [
      "\r",
      "150it [13:46,  7.44s/it]"
     ]
    },
    {
     "name": "stdout",
     "output_type": "stream",
     "text": [
      "Saved logs/California 0724-4\\checkpoint_best_mse.pth\n",
      "Loaded logs/California 0724-4\\checkpoint_temp_150.pth\n",
      "iteration:150 loss:0.6981112957000732 mse:0.7509468793869019\n"
     ]
    },
    {
     "name": "stderr",
     "output_type": "stream",
     "text": [
      "199it [18:10,  5.94s/it]"
     ]
    },
    {
     "name": "stdout",
     "output_type": "stream",
     "text": [
      "Saved logs/California 0724-4\\checkpoint_temp_200.pth\n",
      "Loaded logs/California 0724-4\\checkpoint_avg.pth\n"
     ]
    },
    {
     "name": "stderr",
     "output_type": "stream",
     "text": [
      "\r",
      "200it [18:22,  7.77s/it]"
     ]
    },
    {
     "name": "stdout",
     "output_type": "stream",
     "text": [
      "Saved logs/California 0724-4\\checkpoint_best_mse.pth\n",
      "Loaded logs/California 0724-4\\checkpoint_temp_200.pth\n",
      "iteration:200 loss:0.6317655444145203 mse:0.7127852439880371\n"
     ]
    },
    {
     "name": "stderr",
     "output_type": "stream",
     "text": [
      "249it [22:54,  5.03s/it]"
     ]
    },
    {
     "name": "stdout",
     "output_type": "stream",
     "text": [
      "Saved logs/California 0724-4\\checkpoint_temp_250.pth\n",
      "Loaded logs/California 0724-4\\checkpoint_avg.pth\n"
     ]
    },
    {
     "name": "stderr",
     "output_type": "stream",
     "text": [
      "\r",
      "250it [23:07,  7.43s/it]"
     ]
    },
    {
     "name": "stdout",
     "output_type": "stream",
     "text": [
      "Saved logs/California 0724-4\\checkpoint_best_mse.pth\n",
      "Loaded logs/California 0724-4\\checkpoint_temp_250.pth\n",
      "iteration:250 loss:0.6059958338737488 mse:0.6794520020484924\n"
     ]
    },
    {
     "name": "stderr",
     "output_type": "stream",
     "text": [
      "299it [27:20,  4.23s/it]"
     ]
    },
    {
     "name": "stdout",
     "output_type": "stream",
     "text": [
      "Saved logs/California 0724-4\\checkpoint_temp_300.pth\n",
      "Loaded logs/California 0724-4\\checkpoint_avg.pth\n"
     ]
    },
    {
     "name": "stderr",
     "output_type": "stream",
     "text": [
      "\r",
      "300it [27:31,  6.18s/it]"
     ]
    },
    {
     "name": "stdout",
     "output_type": "stream",
     "text": [
      "Saved logs/California 0724-4\\checkpoint_best_mse.pth\n",
      "Loaded logs/California 0724-4\\checkpoint_temp_300.pth\n",
      "iteration:300 loss:0.5178478360176086 mse:0.6119393110275269\n"
     ]
    },
    {
     "name": "stderr",
     "output_type": "stream",
     "text": [
      "349it [32:10,  5.99s/it]"
     ]
    },
    {
     "name": "stdout",
     "output_type": "stream",
     "text": [
      "Saved logs/California 0724-4\\checkpoint_temp_350.pth\n",
      "Loaded logs/California 0724-4\\checkpoint_avg.pth\n"
     ]
    },
    {
     "name": "stderr",
     "output_type": "stream",
     "text": [
      "\r",
      "350it [32:21,  7.58s/it]"
     ]
    },
    {
     "name": "stdout",
     "output_type": "stream",
     "text": [
      "Saved logs/California 0724-4\\checkpoint_best_mse.pth\n",
      "Loaded logs/California 0724-4\\checkpoint_temp_350.pth\n",
      "iteration:350 loss:0.47971707582473755 mse:0.5633949041366577\n"
     ]
    },
    {
     "name": "stderr",
     "output_type": "stream",
     "text": [
      "399it [36:35,  5.37s/it]"
     ]
    },
    {
     "name": "stdout",
     "output_type": "stream",
     "text": [
      "Saved logs/California 0724-4\\checkpoint_temp_400.pth\n",
      "Loaded logs/California 0724-4\\checkpoint_avg.pth\n"
     ]
    },
    {
     "name": "stderr",
     "output_type": "stream",
     "text": [
      "\r",
      "400it [36:45,  6.91s/it]"
     ]
    },
    {
     "name": "stdout",
     "output_type": "stream",
     "text": [
      "Saved logs/California 0724-4\\checkpoint_best_mse.pth\n",
      "Loaded logs/California 0724-4\\checkpoint_temp_400.pth\n",
      "iteration:400 loss:0.4718688428401947 mse:0.5271509885787964\n"
     ]
    },
    {
     "name": "stderr",
     "output_type": "stream",
     "text": [
      "449it [40:57,  5.49s/it]"
     ]
    },
    {
     "name": "stdout",
     "output_type": "stream",
     "text": [
      "Saved logs/California 0724-4\\checkpoint_temp_450.pth\n",
      "Loaded logs/California 0724-4\\checkpoint_avg.pth\n"
     ]
    },
    {
     "name": "stderr",
     "output_type": "stream",
     "text": [
      "\r",
      "450it [41:07,  7.03s/it]"
     ]
    },
    {
     "name": "stdout",
     "output_type": "stream",
     "text": [
      "Saved logs/California 0724-4\\checkpoint_best_mse.pth\n",
      "Loaded logs/California 0724-4\\checkpoint_temp_450.pth\n",
      "iteration:450 loss:0.5337320566177368 mse:0.500442385673523\n"
     ]
    },
    {
     "name": "stderr",
     "output_type": "stream",
     "text": [
      "499it [45:37,  5.58s/it]"
     ]
    },
    {
     "name": "stdout",
     "output_type": "stream",
     "text": [
      "Saved logs/California 0724-4\\checkpoint_temp_500.pth\n",
      "Loaded logs/California 0724-4\\checkpoint_avg.pth\n"
     ]
    },
    {
     "name": "stderr",
     "output_type": "stream",
     "text": [
      "\r",
      "500it [45:48,  7.17s/it]"
     ]
    },
    {
     "name": "stdout",
     "output_type": "stream",
     "text": [
      "Saved logs/California 0724-4\\checkpoint_best_mse.pth\n",
      "Loaded logs/California 0724-4\\checkpoint_temp_500.pth\n",
      "iteration:500 loss:0.4440693259239197 mse:0.4789286255836487\n"
     ]
    },
    {
     "name": "stderr",
     "output_type": "stream",
     "text": [
      "549it [50:20,  5.60s/it]"
     ]
    },
    {
     "name": "stdout",
     "output_type": "stream",
     "text": [
      "Saved logs/California 0724-4\\checkpoint_temp_550.pth\n",
      "Loaded logs/California 0724-4\\checkpoint_avg.pth\n"
     ]
    },
    {
     "name": "stderr",
     "output_type": "stream",
     "text": [
      "\r",
      "550it [50:31,  7.41s/it]"
     ]
    },
    {
     "name": "stdout",
     "output_type": "stream",
     "text": [
      "Saved logs/California 0724-4\\checkpoint_best_mse.pth\n",
      "Loaded logs/California 0724-4\\checkpoint_temp_550.pth\n",
      "iteration:550 loss:0.41394832730293274 mse:0.4598309099674225\n"
     ]
    },
    {
     "name": "stderr",
     "output_type": "stream",
     "text": [
      "599it [55:01,  5.02s/it]"
     ]
    },
    {
     "name": "stdout",
     "output_type": "stream",
     "text": [
      "Saved logs/California 0724-4\\checkpoint_temp_600.pth\n",
      "Loaded logs/California 0724-4\\checkpoint_avg.pth\n"
     ]
    },
    {
     "name": "stderr",
     "output_type": "stream",
     "text": [
      "\r",
      "600it [55:13,  7.05s/it]"
     ]
    },
    {
     "name": "stdout",
     "output_type": "stream",
     "text": [
      "Saved logs/California 0724-4\\checkpoint_best_mse.pth\n",
      "Loaded logs/California 0724-4\\checkpoint_temp_600.pth\n",
      "iteration:600 loss:0.36986619234085083 mse:0.44431909918785095\n"
     ]
    },
    {
     "name": "stderr",
     "output_type": "stream",
     "text": [
      "649it [59:46,  5.50s/it]"
     ]
    },
    {
     "name": "stdout",
     "output_type": "stream",
     "text": [
      "Saved logs/California 0724-4\\checkpoint_temp_650.pth\n",
      "Loaded logs/California 0724-4\\checkpoint_avg.pth\n"
     ]
    },
    {
     "name": "stderr",
     "output_type": "stream",
     "text": [
      "\r",
      "650it [59:53,  6.03s/it]"
     ]
    },
    {
     "name": "stdout",
     "output_type": "stream",
     "text": [
      "Saved logs/California 0724-4\\checkpoint_best_mse.pth\n",
      "Loaded logs/California 0724-4\\checkpoint_temp_650.pth\n",
      "iteration:650 loss:0.412624329328537 mse:0.43018290400505066\n"
     ]
    },
    {
     "name": "stderr",
     "output_type": "stream",
     "text": [
      "699it [1:04:14,  5.58s/it]"
     ]
    },
    {
     "name": "stdout",
     "output_type": "stream",
     "text": [
      "Saved logs/California 0724-4\\checkpoint_temp_700.pth\n",
      "Loaded logs/California 0724-4\\checkpoint_avg.pth\n"
     ]
    },
    {
     "name": "stderr",
     "output_type": "stream",
     "text": [
      "\r",
      "700it [1:04:25,  7.26s/it]"
     ]
    },
    {
     "name": "stdout",
     "output_type": "stream",
     "text": [
      "Saved logs/California 0724-4\\checkpoint_best_mse.pth\n",
      "Loaded logs/California 0724-4\\checkpoint_temp_700.pth\n",
      "iteration:700 loss:0.38942718505859375 mse:0.418210506439209\n"
     ]
    },
    {
     "name": "stderr",
     "output_type": "stream",
     "text": [
      "749it [1:08:41,  5.54s/it]"
     ]
    },
    {
     "name": "stdout",
     "output_type": "stream",
     "text": [
      "Saved logs/California 0724-4\\checkpoint_temp_750.pth\n",
      "Loaded logs/California 0724-4\\checkpoint_avg.pth\n"
     ]
    },
    {
     "name": "stderr",
     "output_type": "stream",
     "text": [
      "\r",
      "750it [1:08:53,  7.25s/it]"
     ]
    },
    {
     "name": "stdout",
     "output_type": "stream",
     "text": [
      "Saved logs/California 0724-4\\checkpoint_best_mse.pth\n",
      "Loaded logs/California 0724-4\\checkpoint_temp_750.pth\n",
      "iteration:750 loss:0.36050933599472046 mse:0.40817978978157043\n"
     ]
    },
    {
     "name": "stderr",
     "output_type": "stream",
     "text": [
      "799it [1:13:33,  5.90s/it]"
     ]
    },
    {
     "name": "stdout",
     "output_type": "stream",
     "text": [
      "Saved logs/California 0724-4\\checkpoint_temp_800.pth\n",
      "Loaded logs/California 0724-4\\checkpoint_avg.pth\n"
     ]
    },
    {
     "name": "stderr",
     "output_type": "stream",
     "text": [
      "\r",
      "800it [1:13:45,  7.66s/it]"
     ]
    },
    {
     "name": "stdout",
     "output_type": "stream",
     "text": [
      "Saved logs/California 0724-4\\checkpoint_best_mse.pth\n",
      "Loaded logs/California 0724-4\\checkpoint_temp_800.pth\n",
      "iteration:800 loss:0.35398173332214355 mse:0.3992029130458832\n"
     ]
    },
    {
     "name": "stderr",
     "output_type": "stream",
     "text": [
      "849it [1:18:06,  5.14s/it]"
     ]
    },
    {
     "name": "stdout",
     "output_type": "stream",
     "text": [
      "Saved logs/California 0724-4\\checkpoint_temp_850.pth\n",
      "Loaded logs/California 0724-4\\checkpoint_avg.pth\n"
     ]
    },
    {
     "name": "stderr",
     "output_type": "stream",
     "text": [
      "\r",
      "850it [1:18:17,  6.77s/it]"
     ]
    },
    {
     "name": "stdout",
     "output_type": "stream",
     "text": [
      "Saved logs/California 0724-4\\checkpoint_best_mse.pth\n",
      "Loaded logs/California 0724-4\\checkpoint_temp_850.pth\n",
      "iteration:850 loss:0.364694744348526 mse:0.39249861240386963\n"
     ]
    },
    {
     "name": "stderr",
     "output_type": "stream",
     "text": [
      "899it [1:22:37,  5.44s/it]"
     ]
    },
    {
     "name": "stdout",
     "output_type": "stream",
     "text": [
      "Saved logs/California 0724-4\\checkpoint_temp_900.pth\n",
      "Loaded logs/California 0724-4\\checkpoint_avg.pth\n"
     ]
    },
    {
     "name": "stderr",
     "output_type": "stream",
     "text": [
      "\r",
      "900it [1:22:49,  7.35s/it]"
     ]
    },
    {
     "name": "stdout",
     "output_type": "stream",
     "text": [
      "Saved logs/California 0724-4\\checkpoint_best_mse.pth\n",
      "Loaded logs/California 0724-4\\checkpoint_temp_900.pth\n",
      "iteration:900 loss:0.3504689037799835 mse:0.3828699290752411\n"
     ]
    },
    {
     "name": "stderr",
     "output_type": "stream",
     "text": [
      "949it [1:27:14,  4.41s/it]"
     ]
    },
    {
     "name": "stdout",
     "output_type": "stream",
     "text": [
      "Saved logs/California 0724-4\\checkpoint_temp_950.pth\n",
      "Loaded logs/California 0724-4\\checkpoint_avg.pth\n"
     ]
    },
    {
     "name": "stderr",
     "output_type": "stream",
     "text": [
      "\r",
      "950it [1:27:24,  6.36s/it]"
     ]
    },
    {
     "name": "stdout",
     "output_type": "stream",
     "text": [
      "Saved logs/California 0724-4\\checkpoint_best_mse.pth\n",
      "Loaded logs/California 0724-4\\checkpoint_temp_950.pth\n",
      "iteration:950 loss:0.3522582948207855 mse:0.37620529532432556\n"
     ]
    },
    {
     "name": "stderr",
     "output_type": "stream",
     "text": [
      "999it [1:31:55,  5.71s/it]"
     ]
    },
    {
     "name": "stdout",
     "output_type": "stream",
     "text": [
      "Saved logs/California 0724-4\\checkpoint_temp_1000.pth\n",
      "Loaded logs/California 0724-4\\checkpoint_avg.pth\n"
     ]
    },
    {
     "name": "stderr",
     "output_type": "stream",
     "text": [
      "\r",
      "1000it [1:32:06,  7.26s/it]"
     ]
    },
    {
     "name": "stdout",
     "output_type": "stream",
     "text": [
      "Saved logs/California 0724-4\\checkpoint_best_mse.pth\n",
      "Loaded logs/California 0724-4\\checkpoint_temp_1000.pth\n",
      "iteration:1000 loss:0.37919265031814575 mse:0.372806191444397\n"
     ]
    },
    {
     "name": "stderr",
     "output_type": "stream",
     "text": [
      "1049it [1:36:27,  5.40s/it]"
     ]
    },
    {
     "name": "stdout",
     "output_type": "stream",
     "text": [
      "Saved logs/California 0724-4\\checkpoint_temp_1050.pth\n",
      "Loaded logs/California 0724-4\\checkpoint_avg.pth\n"
     ]
    },
    {
     "name": "stderr",
     "output_type": "stream",
     "text": [
      "\r",
      "1050it [1:36:38,  7.08s/it]"
     ]
    },
    {
     "name": "stdout",
     "output_type": "stream",
     "text": [
      "Saved logs/California 0724-4\\checkpoint_best_mse.pth\n",
      "Loaded logs/California 0724-4\\checkpoint_temp_1050.pth\n",
      "iteration:1050 loss:0.3483409881591797 mse:0.36932381987571716\n"
     ]
    },
    {
     "name": "stderr",
     "output_type": "stream",
     "text": [
      "1099it [1:40:56,  5.63s/it]"
     ]
    },
    {
     "name": "stdout",
     "output_type": "stream",
     "text": [
      "Saved logs/California 0724-4\\checkpoint_temp_1100.pth\n",
      "Loaded logs/California 0724-4\\checkpoint_avg.pth\n"
     ]
    },
    {
     "name": "stderr",
     "output_type": "stream",
     "text": [
      "\r",
      "1100it [1:41:06,  7.16s/it]"
     ]
    },
    {
     "name": "stdout",
     "output_type": "stream",
     "text": [
      "Saved logs/California 0724-4\\checkpoint_best_mse.pth\n",
      "Loaded logs/California 0724-4\\checkpoint_temp_1100.pth\n",
      "iteration:1100 loss:0.35032400488853455 mse:0.36375561356544495\n"
     ]
    },
    {
     "name": "stderr",
     "output_type": "stream",
     "text": [
      "1149it [1:45:32,  5.72s/it]"
     ]
    },
    {
     "name": "stdout",
     "output_type": "stream",
     "text": [
      "Saved logs/California 0724-4\\checkpoint_temp_1150.pth\n",
      "Loaded logs/California 0724-4\\checkpoint_avg.pth\n"
     ]
    },
    {
     "name": "stderr",
     "output_type": "stream",
     "text": [
      "\r",
      "1150it [1:45:43,  7.32s/it]"
     ]
    },
    {
     "name": "stdout",
     "output_type": "stream",
     "text": [
      "Saved logs/California 0724-4\\checkpoint_best_mse.pth\n",
      "Loaded logs/California 0724-4\\checkpoint_temp_1150.pth\n",
      "iteration:1150 loss:0.3465188443660736 mse:0.3574793338775635\n"
     ]
    },
    {
     "name": "stderr",
     "output_type": "stream",
     "text": [
      "1199it [1:50:08,  5.23s/it]"
     ]
    },
    {
     "name": "stdout",
     "output_type": "stream",
     "text": [
      "Saved logs/California 0724-4\\checkpoint_temp_1200.pth\n",
      "Loaded logs/California 0724-4\\checkpoint_avg.pth\n"
     ]
    },
    {
     "name": "stderr",
     "output_type": "stream",
     "text": [
      "\r",
      "1200it [1:50:20,  7.07s/it]"
     ]
    },
    {
     "name": "stdout",
     "output_type": "stream",
     "text": [
      "Saved logs/California 0724-4\\checkpoint_best_mse.pth\n",
      "Loaded logs/California 0724-4\\checkpoint_temp_1200.pth\n",
      "iteration:1200 loss:0.340543270111084 mse:0.3537638485431671\n"
     ]
    },
    {
     "name": "stderr",
     "output_type": "stream",
     "text": [
      "1249it [1:54:46,  5.01s/it]"
     ]
    },
    {
     "name": "stdout",
     "output_type": "stream",
     "text": [
      "Saved logs/California 0724-4\\checkpoint_temp_1250.pth\n",
      "Loaded logs/California 0724-4\\checkpoint_avg.pth\n"
     ]
    },
    {
     "name": "stderr",
     "output_type": "stream",
     "text": [
      "\r",
      "1250it [1:54:57,  6.84s/it]"
     ]
    },
    {
     "name": "stdout",
     "output_type": "stream",
     "text": [
      "Saved logs/California 0724-4\\checkpoint_best_mse.pth\n",
      "Loaded logs/California 0724-4\\checkpoint_temp_1250.pth\n",
      "iteration:1250 loss:0.37070947885513306 mse:0.34377020597457886\n"
     ]
    },
    {
     "name": "stderr",
     "output_type": "stream",
     "text": [
      "1299it [1:59:33,  5.73s/it]"
     ]
    },
    {
     "name": "stdout",
     "output_type": "stream",
     "text": [
      "Saved logs/California 0724-4\\checkpoint_temp_1300.pth\n",
      "Loaded logs/California 0724-4\\checkpoint_avg.pth\n"
     ]
    },
    {
     "name": "stderr",
     "output_type": "stream",
     "text": [
      "1300it [1:59:40,  5.52s/it]"
     ]
    },
    {
     "name": "stdout",
     "output_type": "stream",
     "text": [
      "Saved logs/California 0724-4\\checkpoint_best_mse.pth\n",
      "Loaded logs/California 0724-4\\checkpoint_temp_1300.pth\n",
      "iteration:1300 loss:0.3005267381668091 mse:0.3399961292743683\n"
     ]
    },
    {
     "name": "stderr",
     "output_type": "stream",
     "text": [
      "\n"
     ]
    }
   ],
   "source": [
    "for batch in tqdm(lib.iterate_minibatches(train_x, train_y, batch_size=1024, \n",
    "                                                shuffle=True, epochs=100)):\n",
    "    \n",
    "    metrics = trainer.train_on_batch(*batch, device=device)\n",
    "    \n",
    "    loss_history.append(metrics['loss'])\n",
    "\n",
    "    if trainer.step % report_frequency == 0:\n",
    "        trainer.save_checkpoint()\n",
    "        trainer.average_checkpoints(out_tag='avg')\n",
    "        trainer.load_checkpoint(tag='avg')\n",
    "        mse = trainer.evaluate_mse(\n",
    "            valid_x, valid_y, device=device, batch_size=1024)\n",
    "\n",
    "        if mse < best_mse:\n",
    "            best_mse = mse\n",
    "            best_step_mse = trainer.step\n",
    "            trainer.save_checkpoint(tag='best_mse')\n",
    "        mse_history.append(mse)\n",
    "        \n",
    "        trainer.load_checkpoint()  # last\n",
    "        trainer.remove_old_temp_checkpoints()\n",
    "        \n",
    "        print(\"iteration:{} loss:{} mse:{}\".format(trainer.step, metrics['loss'], mse))\n",
    "#         clear_output(True)\n",
    "#         plt.figure(figsize=[18, 6])\n",
    "#         plt.subplot(1, 2, 1)\n",
    "#         plt.plot(loss_history)\n",
    "#         plt.title('Loss')\n",
    "#         plt.grid()\n",
    "#         plt.subplot(1, 2, 2)\n",
    "#         plt.plot(mse_history)\n",
    "#         plt.title('MSE')\n",
    "#         plt.grid()\n",
    "#         plt.show()\n",
    "#         print(\"Loss %.5f\" % (metrics['loss']))\n",
    "#         print(\"Val MSE: %0.5f\" % (mse))\n",
    "    if trainer.step > best_step_mse + early_stopping_rounds:\n",
    "        print('BREAK. There is no improvment for {} steps'.format(early_stopping_rounds))\n",
    "        print(\"Best step: \", best_step_mse)\n",
    "        print(\"Best Val MSE: %0.5f\" % (best_mse))\n",
    "        break"
   ]
  },
  {
   "cell_type": "code",
   "execution_count": 50,
   "metadata": {},
   "outputs": [],
   "source": [
    "y_pred = trainer.get_prediction(test_x, test_y, device=device)"
   ]
  },
  {
   "cell_type": "code",
   "execution_count": 56,
   "metadata": {},
   "outputs": [
    {
     "name": "stdout",
     "output_type": "stream",
     "text": [
      "RMSE: 0.5976597666740417\n",
      "Pseudo R^2: 0.6534174120442646\n"
     ]
    }
   ],
   "source": [
    "print('RMSE: {}'.format(np.sqrt(mean_squared_error(test_y, y_pred))))\n",
    "print('Pseudo R^2: {}'.format(getpr2(test_y, y_pred)))"
   ]
  },
  {
   "cell_type": "code",
   "execution_count": 57,
   "metadata": {},
   "outputs": [
    {
     "data": {
      "image/png": "[encoded data removed]",
      "text/plain": [
       "<Figure size 360x360 with 1 Axes>"
      ]
     },
     "metadata": {
      "needs_background": "light"
     },
     "output_type": "display_data"
    }
   ],
   "source": [
    "# Observed y vs fitted y\n",
    "y_df = pd.DataFrame({'obsy':test_y, 'predy':y_pred})\n",
    "sns.relplot(x='obsy', y='predy', data=y_df, color=\"mediumturquoise\")\n",
    "plt.plot([-2, 3.2], [-2, 3.2], color=\"slateblue\")\n",
    "plt.title(\"Observed y vs fitted y in NODE\");"
   ]
  },
  {
   "cell_type": "code",
   "execution_count": 73,
   "metadata": {},
   "outputs": [
    {
     "name": "stdout",
     "output_type": "stream",
     "text": [
      "1.2248721\n",
      "-0.9529595\n"
     ]
    }
   ],
   "source": [
    "print(np.max(y_pred))\n",
    "print(np.min(y_pred))"
   ]
  },
  {
   "cell_type": "code",
   "execution_count": 61,
   "metadata": {},
   "outputs": [
    {
     "data": {
      "image/png": "[encoded data removed]",
      "text/plain": [
       "<Figure size 432x288 with 1 Axes>"
      ]
     },
     "metadata": {
      "needs_background": "light"
     },
     "output_type": "display_data"
    }
   ],
   "source": [
    "plt.plot(torch.stack(loss_history).detach().numpy());"
   ]
  },
  {
   "cell_type": "code",
   "execution_count": null,
   "metadata": {},
   "outputs": [],
   "source": []
  },
  {
   "cell_type": "code",
   "execution_count": null,
   "metadata": {},
   "outputs": [],
   "source": []
  },
  {
   "cell_type": "markdown",
   "metadata": {},
   "source": [
    "#### case2: layer 수를 줄이고 epoch을 더 크게"
   ]
  },
  {
   "cell_type": "code",
   "execution_count": 65,
   "metadata": {},
   "outputs": [
    {
     "name": "stdout",
     "output_type": "stream",
     "text": [
      "experiment: California 0724-5\n"
     ]
    }
   ],
   "source": [
    "experiment_name = 'California 0724-5'  # experiment 이름 지정\n",
    "print(\"experiment:\", experiment_name)"
   ]
  },
  {
   "cell_type": "code",
   "execution_count": 66,
   "metadata": {},
   "outputs": [],
   "source": [
    "in_features = train_x.shape[1]\n",
    "\n",
    "model = nn.Sequential(\n",
    "    lib.DenseBlock(in_features, 64, num_layers=3, tree_dim=3, depth=6, flatten_output=False,\n",
    "                   choice_function=lib.entmax15, bin_function=lib.entmoid15),\n",
    "    lib.Lambda(lambda x: x[..., 0].mean(dim=-1)),  # average first channels of every tree\n",
    "    \n",
    ").to(device)\n",
    "\n",
    "# with torch.no_grad():\n",
    "#     res = model(torch.as_tensor(train_x[:5000], device=device, dtype=torch.float32))\n",
    "    # trigger data-aware init\n",
    "    \n",
    "if torch.cuda.device_count() > 1:\n",
    "    model = nn.DataParallel(model)"
   ]
  },
  {
   "cell_type": "code",
   "execution_count": 67,
   "metadata": {},
   "outputs": [],
   "source": [
    "optimizer_params = { 'nus':(0.7, 1.0), 'betas':(0.95, 0.998) }\n",
    "trainer = lib.Trainer(\n",
    "    model=model, loss_function=F.mse_loss,\n",
    "    experiment_name=experiment_name,\n",
    "    warm_start=False,\n",
    "    Optimizer=QHAdam,\n",
    "    optimizer_params=optimizer_params,\n",
    "    verbose=True,\n",
    "    n_last_checkpoints=5\n",
    ")"
   ]
  },
  {
   "cell_type": "code",
   "execution_count": 68,
   "metadata": {},
   "outputs": [],
   "source": [
    "loss_history2, mse_history2 = [], []\n",
    "best_mse = float('inf')\n",
    "best_step_mse = 0\n",
    "early_stopping_rounds = 100\n",
    "report_frequency = 50"
   ]
  },
  {
   "cell_type": "code",
   "execution_count": 69,
   "metadata": {
    "scrolled": true
   },
   "outputs": [
    {
     "name": "stderr",
     "output_type": "stream",
     "text": [
      "49it [00:53,  1.09s/it]"
     ]
    },
    {
     "name": "stdout",
     "output_type": "stream",
     "text": [
      "Saved logs/California 0724-5\\checkpoint_temp_50.pth\n",
      "Loaded logs/California 0724-5\\checkpoint_avg.pth\n"
     ]
    },
    {
     "name": "stderr",
     "output_type": "stream",
     "text": [
      "\r",
      "50it [00:54,  1.28s/it]"
     ]
    },
    {
     "name": "stdout",
     "output_type": "stream",
     "text": [
      "Saved logs/California 0724-5\\checkpoint_best_mse.pth\n",
      "Loaded logs/California 0724-5\\checkpoint_temp_50.pth\n",
      "iteration:50 loss:0.9763635993003845 mse:0.9779215455055237\n"
     ]
    },
    {
     "name": "stderr",
     "output_type": "stream",
     "text": [
      "99it [01:48,  1.17s/it]"
     ]
    },
    {
     "name": "stdout",
     "output_type": "stream",
     "text": [
      "Saved logs/California 0724-5\\checkpoint_temp_100.pth\n",
      "Loaded logs/California 0724-5\\checkpoint_avg.pth\n"
     ]
    },
    {
     "name": "stderr",
     "output_type": "stream",
     "text": [
      "\r",
      "100it [01:50,  1.42s/it]"
     ]
    },
    {
     "name": "stdout",
     "output_type": "stream",
     "text": [
      "Saved logs/California 0724-5\\checkpoint_best_mse.pth\n",
      "Loaded logs/California 0724-5\\checkpoint_temp_100.pth\n",
      "iteration:100 loss:0.8707801103591919 mse:0.9571326971054077\n"
     ]
    },
    {
     "name": "stderr",
     "output_type": "stream",
     "text": [
      "149it [02:45,  1.24s/it]"
     ]
    },
    {
     "name": "stdout",
     "output_type": "stream",
     "text": [
      "Saved logs/California 0724-5\\checkpoint_temp_150.pth\n",
      "Loaded logs/California 0724-5\\checkpoint_avg.pth\n"
     ]
    },
    {
     "name": "stderr",
     "output_type": "stream",
     "text": [
      "\r",
      "150it [02:47,  1.45s/it]"
     ]
    },
    {
     "name": "stdout",
     "output_type": "stream",
     "text": [
      "Saved logs/California 0724-5\\checkpoint_best_mse.pth\n",
      "Loaded logs/California 0724-5\\checkpoint_temp_150.pth\n",
      "iteration:150 loss:0.8843846321105957 mse:0.9329019784927368\n"
     ]
    },
    {
     "name": "stderr",
     "output_type": "stream",
     "text": [
      "199it [03:44,  1.16s/it]"
     ]
    },
    {
     "name": "stdout",
     "output_type": "stream",
     "text": [
      "Saved logs/California 0724-5\\checkpoint_temp_200.pth\n",
      "Loaded logs/California 0724-5\\checkpoint_avg.pth\n"
     ]
    },
    {
     "name": "stderr",
     "output_type": "stream",
     "text": [
      "\r",
      "200it [03:46,  1.32s/it]"
     ]
    },
    {
     "name": "stdout",
     "output_type": "stream",
     "text": [
      "Saved logs/California 0724-5\\checkpoint_best_mse.pth\n",
      "Loaded logs/California 0724-5\\checkpoint_temp_200.pth\n",
      "iteration:200 loss:0.8299335837364197 mse:0.907481849193573\n"
     ]
    },
    {
     "name": "stderr",
     "output_type": "stream",
     "text": [
      "249it [04:44,  1.21s/it]"
     ]
    },
    {
     "name": "stdout",
     "output_type": "stream",
     "text": [
      "Saved logs/California 0724-5\\checkpoint_temp_250.pth\n",
      "Loaded logs/California 0724-5\\checkpoint_avg.pth\n"
     ]
    },
    {
     "name": "stderr",
     "output_type": "stream",
     "text": [
      "\r",
      "250it [04:46,  1.45s/it]"
     ]
    },
    {
     "name": "stdout",
     "output_type": "stream",
     "text": [
      "Saved logs/California 0724-5\\checkpoint_best_mse.pth\n",
      "Loaded logs/California 0724-5\\checkpoint_temp_250.pth\n",
      "iteration:250 loss:0.7201346158981323 mse:0.8828292489051819\n"
     ]
    },
    {
     "name": "stderr",
     "output_type": "stream",
     "text": [
      "299it [05:46,  1.03it/s]"
     ]
    },
    {
     "name": "stdout",
     "output_type": "stream",
     "text": [
      "Saved logs/California 0724-5\\checkpoint_temp_300.pth\n",
      "Loaded logs/California 0724-5\\checkpoint_avg.pth\n"
     ]
    },
    {
     "name": "stderr",
     "output_type": "stream",
     "text": [
      "\r",
      "300it [05:48,  1.25s/it]"
     ]
    },
    {
     "name": "stdout",
     "output_type": "stream",
     "text": [
      "Saved logs/California 0724-5\\checkpoint_best_mse.pth\n",
      "Loaded logs/California 0724-5\\checkpoint_temp_300.pth\n",
      "iteration:300 loss:0.7067774534225464 mse:0.8304242491722107\n"
     ]
    },
    {
     "name": "stderr",
     "output_type": "stream",
     "text": [
      "349it [06:50,  1.30s/it]"
     ]
    },
    {
     "name": "stdout",
     "output_type": "stream",
     "text": [
      "Saved logs/California 0724-5\\checkpoint_temp_350.pth\n",
      "Loaded logs/California 0724-5\\checkpoint_avg.pth\n"
     ]
    },
    {
     "name": "stderr",
     "output_type": "stream",
     "text": [
      "\r",
      "350it [06:52,  1.49s/it]"
     ]
    },
    {
     "name": "stdout",
     "output_type": "stream",
     "text": [
      "Saved logs/California 0724-5\\checkpoint_best_mse.pth\n",
      "Loaded logs/California 0724-5\\checkpoint_temp_350.pth\n",
      "iteration:350 loss:0.6729726195335388 mse:0.7829758524894714\n"
     ]
    },
    {
     "name": "stderr",
     "output_type": "stream",
     "text": [
      "399it [07:51,  1.25s/it]"
     ]
    },
    {
     "name": "stdout",
     "output_type": "stream",
     "text": [
      "Saved logs/California 0724-5\\checkpoint_temp_400.pth\n",
      "Loaded logs/California 0724-5\\checkpoint_avg.pth\n"
     ]
    },
    {
     "name": "stderr",
     "output_type": "stream",
     "text": [
      "\r",
      "400it [07:52,  1.45s/it]"
     ]
    },
    {
     "name": "stdout",
     "output_type": "stream",
     "text": [
      "Saved logs/California 0724-5\\checkpoint_best_mse.pth\n",
      "Loaded logs/California 0724-5\\checkpoint_temp_400.pth\n",
      "iteration:400 loss:0.6466984152793884 mse:0.7392054796218872\n"
     ]
    },
    {
     "name": "stderr",
     "output_type": "stream",
     "text": [
      "449it [08:51,  1.24s/it]"
     ]
    },
    {
     "name": "stdout",
     "output_type": "stream",
     "text": [
      "Saved logs/California 0724-5\\checkpoint_temp_450.pth\n",
      "Loaded logs/California 0724-5\\checkpoint_avg.pth\n"
     ]
    },
    {
     "name": "stderr",
     "output_type": "stream",
     "text": [
      "\r",
      "450it [08:53,  1.44s/it]"
     ]
    },
    {
     "name": "stdout",
     "output_type": "stream",
     "text": [
      "Saved logs/California 0724-5\\checkpoint_best_mse.pth\n",
      "Loaded logs/California 0724-5\\checkpoint_temp_450.pth\n",
      "iteration:450 loss:0.6474547386169434 mse:0.697295069694519\n"
     ]
    },
    {
     "name": "stderr",
     "output_type": "stream",
     "text": [
      "499it [09:52,  1.21s/it]"
     ]
    },
    {
     "name": "stdout",
     "output_type": "stream",
     "text": [
      "Saved logs/California 0724-5\\checkpoint_temp_500.pth\n",
      "Loaded logs/California 0724-5\\checkpoint_avg.pth\n"
     ]
    },
    {
     "name": "stderr",
     "output_type": "stream",
     "text": [
      "\r",
      "500it [09:54,  1.43s/it]"
     ]
    },
    {
     "name": "stdout",
     "output_type": "stream",
     "text": [
      "Saved logs/California 0724-5\\checkpoint_best_mse.pth\n",
      "Loaded logs/California 0724-5\\checkpoint_temp_500.pth\n",
      "iteration:500 loss:0.5422424077987671 mse:0.6580344438552856\n"
     ]
    },
    {
     "name": "stderr",
     "output_type": "stream",
     "text": [
      "549it [10:53,  1.18s/it]"
     ]
    },
    {
     "name": "stdout",
     "output_type": "stream",
     "text": [
      "Saved logs/California 0724-5\\checkpoint_temp_550.pth\n",
      "Loaded logs/California 0724-5\\checkpoint_avg.pth\n"
     ]
    },
    {
     "name": "stderr",
     "output_type": "stream",
     "text": [
      "\r",
      "550it [10:55,  1.39s/it]"
     ]
    },
    {
     "name": "stdout",
     "output_type": "stream",
     "text": [
      "Saved logs/California 0724-5\\checkpoint_best_mse.pth\n",
      "Loaded logs/California 0724-5\\checkpoint_temp_550.pth\n",
      "iteration:550 loss:0.5778559446334839 mse:0.6233127117156982\n"
     ]
    },
    {
     "name": "stderr",
     "output_type": "stream",
     "text": [
      "599it [11:53,  1.05s/it]"
     ]
    },
    {
     "name": "stdout",
     "output_type": "stream",
     "text": [
      "Saved logs/California 0724-5\\checkpoint_temp_600.pth\n",
      "Loaded logs/California 0724-5\\checkpoint_avg.pth\n"
     ]
    },
    {
     "name": "stderr",
     "output_type": "stream",
     "text": [
      "\r",
      "600it [11:55,  1.30s/it]"
     ]
    },
    {
     "name": "stdout",
     "output_type": "stream",
     "text": [
      "Saved logs/California 0724-5\\checkpoint_best_mse.pth\n",
      "Loaded logs/California 0724-5\\checkpoint_temp_600.pth\n",
      "iteration:600 loss:0.5162216424942017 mse:0.5933541655540466\n"
     ]
    },
    {
     "name": "stderr",
     "output_type": "stream",
     "text": [
      "649it [12:57,  1.28s/it]"
     ]
    },
    {
     "name": "stdout",
     "output_type": "stream",
     "text": [
      "Saved logs/California 0724-5\\checkpoint_temp_650.pth\n",
      "Loaded logs/California 0724-5\\checkpoint_avg.pth\n"
     ]
    },
    {
     "name": "stderr",
     "output_type": "stream",
     "text": [
      "\r",
      "650it [12:58,  1.16s/it]"
     ]
    },
    {
     "name": "stdout",
     "output_type": "stream",
     "text": [
      "Saved logs/California 0724-5\\checkpoint_best_mse.pth\n",
      "Loaded logs/California 0724-5\\checkpoint_temp_650.pth\n",
      "iteration:650 loss:0.4936928451061249 mse:0.5672255754470825\n"
     ]
    },
    {
     "name": "stderr",
     "output_type": "stream",
     "text": [
      "699it [13:58,  1.29s/it]"
     ]
    },
    {
     "name": "stdout",
     "output_type": "stream",
     "text": [
      "Saved logs/California 0724-5\\checkpoint_temp_700.pth\n",
      "Loaded logs/California 0724-5\\checkpoint_avg.pth\n"
     ]
    },
    {
     "name": "stderr",
     "output_type": "stream",
     "text": [
      "\r",
      "700it [14:00,  1.49s/it]"
     ]
    },
    {
     "name": "stdout",
     "output_type": "stream",
     "text": [
      "Saved logs/California 0724-5\\checkpoint_best_mse.pth\n",
      "Loaded logs/California 0724-5\\checkpoint_temp_700.pth\n",
      "iteration:700 loss:0.47779014706611633 mse:0.5450011491775513\n"
     ]
    },
    {
     "name": "stderr",
     "output_type": "stream",
     "text": [
      "749it [15:00,  1.31s/it]"
     ]
    },
    {
     "name": "stdout",
     "output_type": "stream",
     "text": [
      "Saved logs/California 0724-5\\checkpoint_temp_750.pth\n",
      "Loaded logs/California 0724-5\\checkpoint_avg.pth\n"
     ]
    },
    {
     "name": "stderr",
     "output_type": "stream",
     "text": [
      "\r",
      "750it [15:02,  1.50s/it]"
     ]
    },
    {
     "name": "stdout",
     "output_type": "stream",
     "text": [
      "Saved logs/California 0724-5\\checkpoint_best_mse.pth\n",
      "Loaded logs/California 0724-5\\checkpoint_temp_750.pth\n",
      "iteration:750 loss:0.48220527172088623 mse:0.5259280204772949\n"
     ]
    },
    {
     "name": "stderr",
     "output_type": "stream",
     "text": [
      "799it [16:03,  1.28s/it]"
     ]
    },
    {
     "name": "stdout",
     "output_type": "stream",
     "text": [
      "Saved logs/California 0724-5\\checkpoint_temp_800.pth\n",
      "Loaded logs/California 0724-5\\checkpoint_avg.pth\n"
     ]
    },
    {
     "name": "stderr",
     "output_type": "stream",
     "text": [
      "\r",
      "800it [16:05,  1.50s/it]"
     ]
    },
    {
     "name": "stdout",
     "output_type": "stream",
     "text": [
      "Saved logs/California 0724-5\\checkpoint_best_mse.pth\n",
      "Loaded logs/California 0724-5\\checkpoint_temp_800.pth\n",
      "iteration:800 loss:0.4641071557998657 mse:0.5081286430358887\n"
     ]
    },
    {
     "name": "stderr",
     "output_type": "stream",
     "text": [
      "849it [17:06,  1.25s/it]"
     ]
    },
    {
     "name": "stdout",
     "output_type": "stream",
     "text": [
      "Saved logs/California 0724-5\\checkpoint_temp_850.pth\n",
      "Loaded logs/California 0724-5\\checkpoint_avg.pth\n"
     ]
    },
    {
     "name": "stderr",
     "output_type": "stream",
     "text": [
      "\r",
      "850it [17:08,  1.51s/it]"
     ]
    },
    {
     "name": "stdout",
     "output_type": "stream",
     "text": [
      "Saved logs/California 0724-5\\checkpoint_best_mse.pth\n",
      "Loaded logs/California 0724-5\\checkpoint_temp_850.pth\n",
      "iteration:850 loss:0.49242186546325684 mse:0.4922822117805481\n"
     ]
    },
    {
     "name": "stderr",
     "output_type": "stream",
     "text": [
      "899it [18:10,  1.17s/it]"
     ]
    },
    {
     "name": "stdout",
     "output_type": "stream",
     "text": [
      "Saved logs/California 0724-5\\checkpoint_temp_900.pth\n",
      "Loaded logs/California 0724-5\\checkpoint_avg.pth\n"
     ]
    },
    {
     "name": "stderr",
     "output_type": "stream",
     "text": [
      "\r",
      "900it [18:12,  1.44s/it]"
     ]
    },
    {
     "name": "stdout",
     "output_type": "stream",
     "text": [
      "Saved logs/California 0724-5\\checkpoint_best_mse.pth\n",
      "Loaded logs/California 0724-5\\checkpoint_temp_900.pth\n",
      "iteration:900 loss:0.4251998960971832 mse:0.4771568775177002\n"
     ]
    },
    {
     "name": "stderr",
     "output_type": "stream",
     "text": [
      "949it [19:12,  1.00s/it]"
     ]
    },
    {
     "name": "stdout",
     "output_type": "stream",
     "text": [
      "Saved logs/California 0724-5\\checkpoint_temp_950.pth\n",
      "Loaded logs/California 0724-5\\checkpoint_avg.pth\n"
     ]
    },
    {
     "name": "stderr",
     "output_type": "stream",
     "text": [
      "\r",
      "950it [19:14,  1.31s/it]"
     ]
    },
    {
     "name": "stdout",
     "output_type": "stream",
     "text": [
      "Saved logs/California 0724-5\\checkpoint_best_mse.pth\n",
      "Loaded logs/California 0724-5\\checkpoint_temp_950.pth\n",
      "iteration:950 loss:0.3909846544265747 mse:0.4616979658603668\n"
     ]
    },
    {
     "name": "stderr",
     "output_type": "stream",
     "text": [
      "999it [20:16,  1.30s/it]"
     ]
    },
    {
     "name": "stdout",
     "output_type": "stream",
     "text": [
      "Saved logs/California 0724-5\\checkpoint_temp_1000.pth\n",
      "Loaded logs/California 0724-5\\checkpoint_avg.pth\n"
     ]
    },
    {
     "name": "stderr",
     "output_type": "stream",
     "text": [
      "\r",
      "1000it [20:18,  1.50s/it]"
     ]
    },
    {
     "name": "stdout",
     "output_type": "stream",
     "text": [
      "Saved logs/California 0724-5\\checkpoint_best_mse.pth\n",
      "Loaded logs/California 0724-5\\checkpoint_temp_1000.pth\n",
      "iteration:1000 loss:0.4639204740524292 mse:0.44892874360084534\n"
     ]
    },
    {
     "name": "stderr",
     "output_type": "stream",
     "text": [
      "1049it [21:18,  1.33s/it]"
     ]
    },
    {
     "name": "stdout",
     "output_type": "stream",
     "text": [
      "Saved logs/California 0724-5\\checkpoint_temp_1050.pth\n",
      "Loaded logs/California 0724-5\\checkpoint_avg.pth\n"
     ]
    },
    {
     "name": "stderr",
     "output_type": "stream",
     "text": [
      "\r",
      "1050it [21:20,  1.54s/it]"
     ]
    },
    {
     "name": "stdout",
     "output_type": "stream",
     "text": [
      "Saved logs/California 0724-5\\checkpoint_best_mse.pth\n",
      "Loaded logs/California 0724-5\\checkpoint_temp_1050.pth\n",
      "iteration:1050 loss:0.45314645767211914 mse:0.4384939968585968\n"
     ]
    },
    {
     "name": "stderr",
     "output_type": "stream",
     "text": [
      "1099it [22:22,  1.34s/it]"
     ]
    },
    {
     "name": "stdout",
     "output_type": "stream",
     "text": [
      "Saved logs/California 0724-5\\checkpoint_temp_1100.pth\n",
      "Loaded logs/California 0724-5\\checkpoint_avg.pth\n"
     ]
    },
    {
     "name": "stderr",
     "output_type": "stream",
     "text": [
      "\r",
      "1100it [22:25,  1.57s/it]"
     ]
    },
    {
     "name": "stdout",
     "output_type": "stream",
     "text": [
      "Saved logs/California 0724-5\\checkpoint_best_mse.pth\n",
      "Loaded logs/California 0724-5\\checkpoint_temp_1100.pth\n",
      "iteration:1100 loss:0.39760622382164 mse:0.42775067687034607\n"
     ]
    },
    {
     "name": "stderr",
     "output_type": "stream",
     "text": [
      "1149it [23:28,  1.46s/it]"
     ]
    },
    {
     "name": "stdout",
     "output_type": "stream",
     "text": [
      "Saved logs/California 0724-5\\checkpoint_temp_1150.pth\n",
      "Loaded logs/California 0724-5\\checkpoint_avg.pth\n"
     ]
    },
    {
     "name": "stderr",
     "output_type": "stream",
     "text": [
      "\r",
      "1150it [23:30,  1.68s/it]"
     ]
    },
    {
     "name": "stdout",
     "output_type": "stream",
     "text": [
      "Saved logs/California 0724-5\\checkpoint_best_mse.pth\n",
      "Loaded logs/California 0724-5\\checkpoint_temp_1150.pth\n",
      "iteration:1150 loss:0.36475899815559387 mse:0.41781458258628845\n"
     ]
    },
    {
     "name": "stderr",
     "output_type": "stream",
     "text": [
      "1199it [24:35,  1.27s/it]"
     ]
    },
    {
     "name": "stdout",
     "output_type": "stream",
     "text": [
      "Saved logs/California 0724-5\\checkpoint_temp_1200.pth\n",
      "Loaded logs/California 0724-5\\checkpoint_avg.pth\n"
     ]
    },
    {
     "name": "stderr",
     "output_type": "stream",
     "text": [
      "\r",
      "1200it [24:37,  1.48s/it]"
     ]
    },
    {
     "name": "stdout",
     "output_type": "stream",
     "text": [
      "Saved logs/California 0724-5\\checkpoint_best_mse.pth\n",
      "Loaded logs/California 0724-5\\checkpoint_temp_1200.pth\n",
      "iteration:1200 loss:0.3677440583705902 mse:0.41020944714546204\n"
     ]
    },
    {
     "name": "stderr",
     "output_type": "stream",
     "text": [
      "1249it [25:43,  1.19s/it]"
     ]
    },
    {
     "name": "stdout",
     "output_type": "stream",
     "text": [
      "Saved logs/California 0724-5\\checkpoint_temp_1250.pth\n",
      "Loaded logs/California 0724-5\\checkpoint_avg.pth\n"
     ]
    },
    {
     "name": "stderr",
     "output_type": "stream",
     "text": [
      "\r",
      "1250it [25:45,  1.47s/it]"
     ]
    },
    {
     "name": "stdout",
     "output_type": "stream",
     "text": [
      "Saved logs/California 0724-5\\checkpoint_best_mse.pth\n",
      "Loaded logs/California 0724-5\\checkpoint_temp_1250.pth\n",
      "iteration:1250 loss:0.36004573106765747 mse:0.40090978145599365\n"
     ]
    },
    {
     "name": "stderr",
     "output_type": "stream",
     "text": [
      "1299it [26:52,  1.33s/it]"
     ]
    },
    {
     "name": "stdout",
     "output_type": "stream",
     "text": [
      "Saved logs/California 0724-5\\checkpoint_temp_1300.pth\n",
      "Loaded logs/California 0724-5\\checkpoint_avg.pth\n"
     ]
    },
    {
     "name": "stderr",
     "output_type": "stream",
     "text": [
      "\r",
      "1300it [26:52,  1.21s/it]"
     ]
    },
    {
     "name": "stdout",
     "output_type": "stream",
     "text": [
      "Saved logs/California 0724-5\\checkpoint_best_mse.pth\n",
      "Loaded logs/California 0724-5\\checkpoint_temp_1300.pth\n",
      "iteration:1300 loss:0.2851068675518036 mse:0.39388367533683777\n"
     ]
    },
    {
     "name": "stderr",
     "output_type": "stream",
     "text": [
      "1349it [27:57,  1.37s/it]"
     ]
    },
    {
     "name": "stdout",
     "output_type": "stream",
     "text": [
      "Saved logs/California 0724-5\\checkpoint_temp_1350.pth\n",
      "Loaded logs/California 0724-5\\checkpoint_avg.pth\n"
     ]
    },
    {
     "name": "stderr",
     "output_type": "stream",
     "text": [
      "\r",
      "1350it [27:59,  1.55s/it]"
     ]
    },
    {
     "name": "stdout",
     "output_type": "stream",
     "text": [
      "Saved logs/California 0724-5\\checkpoint_best_mse.pth\n",
      "Loaded logs/California 0724-5\\checkpoint_temp_1350.pth\n",
      "iteration:1350 loss:0.3556222915649414 mse:0.3866610527038574\n"
     ]
    },
    {
     "name": "stderr",
     "output_type": "stream",
     "text": [
      "1399it [29:02,  1.36s/it]"
     ]
    },
    {
     "name": "stdout",
     "output_type": "stream",
     "text": [
      "Saved logs/California 0724-5\\checkpoint_temp_1400.pth\n",
      "Loaded logs/California 0724-5\\checkpoint_avg.pth\n"
     ]
    },
    {
     "name": "stderr",
     "output_type": "stream",
     "text": [
      "\r",
      "1400it [29:04,  1.56s/it]"
     ]
    },
    {
     "name": "stdout",
     "output_type": "stream",
     "text": [
      "Saved logs/California 0724-5\\checkpoint_best_mse.pth\n",
      "Loaded logs/California 0724-5\\checkpoint_temp_1400.pth\n",
      "iteration:1400 loss:0.3310113847255707 mse:0.3822179436683655\n"
     ]
    },
    {
     "name": "stderr",
     "output_type": "stream",
     "text": [
      "1449it [30:07,  1.33s/it]"
     ]
    },
    {
     "name": "stdout",
     "output_type": "stream",
     "text": [
      "Saved logs/California 0724-5\\checkpoint_temp_1450.pth\n",
      "Loaded logs/California 0724-5\\checkpoint_avg.pth\n"
     ]
    },
    {
     "name": "stderr",
     "output_type": "stream",
     "text": [
      "\r",
      "1450it [30:09,  1.52s/it]"
     ]
    },
    {
     "name": "stdout",
     "output_type": "stream",
     "text": [
      "Saved logs/California 0724-5\\checkpoint_best_mse.pth\n",
      "Loaded logs/California 0724-5\\checkpoint_temp_1450.pth\n",
      "iteration:1450 loss:0.3384222984313965 mse:0.37536880373954773\n"
     ]
    },
    {
     "name": "stderr",
     "output_type": "stream",
     "text": [
      "1499it [31:10,  1.23s/it]"
     ]
    },
    {
     "name": "stdout",
     "output_type": "stream",
     "text": [
      "Saved logs/California 0724-5\\checkpoint_temp_1500.pth\n",
      "Loaded logs/California 0724-5\\checkpoint_avg.pth\n"
     ]
    },
    {
     "name": "stderr",
     "output_type": "stream",
     "text": [
      "\r",
      "1500it [31:12,  1.47s/it]"
     ]
    },
    {
     "name": "stdout",
     "output_type": "stream",
     "text": [
      "Saved logs/California 0724-5\\checkpoint_best_mse.pth\n",
      "Loaded logs/California 0724-5\\checkpoint_temp_1500.pth\n",
      "iteration:1500 loss:0.3647714853286743 mse:0.3687412440776825\n"
     ]
    },
    {
     "name": "stderr",
     "output_type": "stream",
     "text": [
      "1549it [32:15,  1.20s/it]"
     ]
    },
    {
     "name": "stdout",
     "output_type": "stream",
     "text": [
      "Saved logs/California 0724-5\\checkpoint_temp_1550.pth\n",
      "Loaded logs/California 0724-5\\checkpoint_avg.pth\n"
     ]
    },
    {
     "name": "stderr",
     "output_type": "stream",
     "text": [
      "\r",
      "1550it [32:17,  1.44s/it]"
     ]
    },
    {
     "name": "stdout",
     "output_type": "stream",
     "text": [
      "Saved logs/California 0724-5\\checkpoint_best_mse.pth\n",
      "Loaded logs/California 0724-5\\checkpoint_temp_1550.pth\n",
      "iteration:1550 loss:0.33425548672676086 mse:0.3590926229953766\n"
     ]
    },
    {
     "name": "stderr",
     "output_type": "stream",
     "text": [
      "1599it [33:21,  1.07s/it]"
     ]
    },
    {
     "name": "stdout",
     "output_type": "stream",
     "text": [
      "Saved logs/California 0724-5\\checkpoint_temp_1600.pth\n",
      "Loaded logs/California 0724-5\\checkpoint_avg.pth\n"
     ]
    },
    {
     "name": "stderr",
     "output_type": "stream",
     "text": [
      "\r",
      "1600it [33:23,  1.39s/it]"
     ]
    },
    {
     "name": "stdout",
     "output_type": "stream",
     "text": [
      "Saved logs/California 0724-5\\checkpoint_best_mse.pth\n",
      "Loaded logs/California 0724-5\\checkpoint_temp_1600.pth\n",
      "iteration:1600 loss:0.31538093090057373 mse:0.35433441400527954\n"
     ]
    },
    {
     "name": "stderr",
     "output_type": "stream",
     "text": [
      "1649it [34:29,  1.32s/it]"
     ]
    },
    {
     "name": "stdout",
     "output_type": "stream",
     "text": [
      "Saved logs/California 0724-5\\checkpoint_temp_1650.pth\n",
      "Loaded logs/California 0724-5\\checkpoint_avg.pth\n"
     ]
    },
    {
     "name": "stderr",
     "output_type": "stream",
     "text": [
      "\r",
      "1650it [34:31,  1.55s/it]"
     ]
    },
    {
     "name": "stdout",
     "output_type": "stream",
     "text": [
      "Saved logs/California 0724-5\\checkpoint_best_mse.pth\n",
      "Loaded logs/California 0724-5\\checkpoint_temp_1650.pth\n",
      "iteration:1650 loss:0.38630029559135437 mse:0.3508446514606476\n"
     ]
    },
    {
     "name": "stderr",
     "output_type": "stream",
     "text": [
      "1699it [35:38,  1.32s/it]"
     ]
    },
    {
     "name": "stdout",
     "output_type": "stream",
     "text": [
      "Saved logs/California 0724-5\\checkpoint_temp_1700.pth\n",
      "Loaded logs/California 0724-5\\checkpoint_avg.pth\n"
     ]
    },
    {
     "name": "stderr",
     "output_type": "stream",
     "text": [
      "\r",
      "1700it [35:40,  1.54s/it]"
     ]
    },
    {
     "name": "stdout",
     "output_type": "stream",
     "text": [
      "Saved logs/California 0724-5\\checkpoint_best_mse.pth\n",
      "Loaded logs/California 0724-5\\checkpoint_temp_1700.pth\n",
      "iteration:1700 loss:0.33867260813713074 mse:0.3479509949684143\n"
     ]
    },
    {
     "name": "stderr",
     "output_type": "stream",
     "text": [
      "1749it [36:43,  1.30s/it]"
     ]
    },
    {
     "name": "stdout",
     "output_type": "stream",
     "text": [
      "Saved logs/California 0724-5\\checkpoint_temp_1750.pth\n",
      "Loaded logs/California 0724-5\\checkpoint_avg.pth\n"
     ]
    },
    {
     "name": "stderr",
     "output_type": "stream",
     "text": [
      "\r",
      "1750it [36:45,  1.49s/it]"
     ]
    },
    {
     "name": "stdout",
     "output_type": "stream",
     "text": [
      "Saved logs/California 0724-5\\checkpoint_best_mse.pth\n",
      "Loaded logs/California 0724-5\\checkpoint_temp_1750.pth\n",
      "iteration:1750 loss:0.3304588198661804 mse:0.3440151512622833\n"
     ]
    },
    {
     "name": "stderr",
     "output_type": "stream",
     "text": [
      "1799it [37:49,  1.29s/it]"
     ]
    },
    {
     "name": "stdout",
     "output_type": "stream",
     "text": [
      "Saved logs/California 0724-5\\checkpoint_temp_1800.pth\n",
      "Loaded logs/California 0724-5\\checkpoint_avg.pth\n"
     ]
    },
    {
     "name": "stderr",
     "output_type": "stream",
     "text": [
      "\r",
      "1800it [37:51,  1.51s/it]"
     ]
    },
    {
     "name": "stdout",
     "output_type": "stream",
     "text": [
      "Saved logs/California 0724-5\\checkpoint_best_mse.pth\n",
      "Loaded logs/California 0724-5\\checkpoint_temp_1800.pth\n",
      "iteration:1800 loss:0.3107602000236511 mse:0.3389436602592468\n"
     ]
    },
    {
     "name": "stderr",
     "output_type": "stream",
     "text": [
      "1849it [38:55,  1.24s/it]"
     ]
    },
    {
     "name": "stdout",
     "output_type": "stream",
     "text": [
      "Saved logs/California 0724-5\\checkpoint_temp_1850.pth\n",
      "Loaded logs/California 0724-5\\checkpoint_avg.pth\n"
     ]
    },
    {
     "name": "stderr",
     "output_type": "stream",
     "text": [
      "\r",
      "1850it [38:57,  1.47s/it]"
     ]
    },
    {
     "name": "stdout",
     "output_type": "stream",
     "text": [
      "Saved logs/California 0724-5\\checkpoint_best_mse.pth\n",
      "Loaded logs/California 0724-5\\checkpoint_temp_1850.pth\n",
      "iteration:1850 loss:0.31917402148246765 mse:0.33592018485069275\n"
     ]
    },
    {
     "name": "stderr",
     "output_type": "stream",
     "text": [
      "1899it [40:03,  1.16s/it]"
     ]
    },
    {
     "name": "stdout",
     "output_type": "stream",
     "text": [
      "Saved logs/California 0724-5\\checkpoint_temp_1900.pth\n",
      "Loaded logs/California 0724-5\\checkpoint_avg.pth\n"
     ]
    },
    {
     "name": "stderr",
     "output_type": "stream",
     "text": [
      "\r",
      "1900it [40:05,  1.40s/it]"
     ]
    },
    {
     "name": "stdout",
     "output_type": "stream",
     "text": [
      "Saved logs/California 0724-5\\checkpoint_best_mse.pth\n",
      "Loaded logs/California 0724-5\\checkpoint_temp_1900.pth\n",
      "iteration:1900 loss:0.3855431079864502 mse:0.33397701382637024\n"
     ]
    },
    {
     "name": "stderr",
     "output_type": "stream",
     "text": [
      "1949it [41:11,  1.38s/it]"
     ]
    },
    {
     "name": "stdout",
     "output_type": "stream",
     "text": [
      "Saved logs/California 0724-5\\checkpoint_temp_1950.pth\n",
      "Loaded logs/California 0724-5\\checkpoint_avg.pth\n"
     ]
    },
    {
     "name": "stderr",
     "output_type": "stream",
     "text": [
      "\r",
      "1950it [41:12,  1.30s/it]"
     ]
    },
    {
     "name": "stdout",
     "output_type": "stream",
     "text": [
      "Saved logs/California 0724-5\\checkpoint_best_mse.pth\n",
      "Loaded logs/California 0724-5\\checkpoint_temp_1950.pth\n",
      "iteration:1950 loss:0.2606547772884369 mse:0.3331344723701477\n"
     ]
    },
    {
     "name": "stderr",
     "output_type": "stream",
     "text": [
      "1999it [42:15,  1.34s/it]"
     ]
    },
    {
     "name": "stdout",
     "output_type": "stream",
     "text": [
      "Saved logs/California 0724-5\\checkpoint_temp_2000.pth\n",
      "Loaded logs/California 0724-5\\checkpoint_avg.pth\n"
     ]
    },
    {
     "name": "stderr",
     "output_type": "stream",
     "text": [
      "\r",
      "2000it [42:17,  1.56s/it]"
     ]
    },
    {
     "name": "stdout",
     "output_type": "stream",
     "text": [
      "Saved logs/California 0724-5\\checkpoint_best_mse.pth\n",
      "Loaded logs/California 0724-5\\checkpoint_temp_2000.pth\n",
      "iteration:2000 loss:0.3037351667881012 mse:0.32948580384254456\n"
     ]
    },
    {
     "name": "stderr",
     "output_type": "stream",
     "text": [
      "2049it [43:17,  1.31s/it]"
     ]
    },
    {
     "name": "stdout",
     "output_type": "stream",
     "text": [
      "Saved logs/California 0724-5\\checkpoint_temp_2050.pth\n",
      "Loaded logs/California 0724-5\\checkpoint_avg.pth\n"
     ]
    },
    {
     "name": "stderr",
     "output_type": "stream",
     "text": [
      "\r",
      "2050it [43:19,  1.52s/it]"
     ]
    },
    {
     "name": "stdout",
     "output_type": "stream",
     "text": [
      "Saved logs/California 0724-5\\checkpoint_best_mse.pth\n",
      "Loaded logs/California 0724-5\\checkpoint_temp_2050.pth\n",
      "iteration:2050 loss:0.3378109335899353 mse:0.3280177414417267\n"
     ]
    },
    {
     "name": "stderr",
     "output_type": "stream",
     "text": [
      "2099it [44:22,  1.33s/it]"
     ]
    },
    {
     "name": "stdout",
     "output_type": "stream",
     "text": [
      "Saved logs/California 0724-5\\checkpoint_temp_2100.pth\n",
      "Loaded logs/California 0724-5\\checkpoint_avg.pth\n"
     ]
    },
    {
     "name": "stderr",
     "output_type": "stream",
     "text": [
      "\r",
      "2100it [44:24,  1.51s/it]"
     ]
    },
    {
     "name": "stdout",
     "output_type": "stream",
     "text": [
      "Saved logs/California 0724-5\\checkpoint_best_mse.pth\n",
      "Loaded logs/California 0724-5\\checkpoint_temp_2100.pth\n",
      "iteration:2100 loss:0.2973967492580414 mse:0.32532477378845215\n"
     ]
    },
    {
     "name": "stderr",
     "output_type": "stream",
     "text": [
      "2149it [45:25,  1.24s/it]"
     ]
    },
    {
     "name": "stdout",
     "output_type": "stream",
     "text": [
      "Saved logs/California 0724-5\\checkpoint_temp_2150.pth\n",
      "Loaded logs/California 0724-5\\checkpoint_avg.pth\n"
     ]
    },
    {
     "name": "stderr",
     "output_type": "stream",
     "text": [
      "\r",
      "2150it [45:27,  1.46s/it]"
     ]
    },
    {
     "name": "stdout",
     "output_type": "stream",
     "text": [
      "Loaded logs/California 0724-5\\checkpoint_temp_2150.pth\n",
      "iteration:2150 loss:0.34864652156829834 mse:0.32611241936683655\n"
     ]
    },
    {
     "name": "stderr",
     "output_type": "stream",
     "text": [
      "2199it [46:30,  1.21s/it]"
     ]
    },
    {
     "name": "stdout",
     "output_type": "stream",
     "text": [
      "Saved logs/California 0724-5\\checkpoint_temp_2200.pth\n",
      "Loaded logs/California 0724-5\\checkpoint_avg.pth\n"
     ]
    },
    {
     "name": "stderr",
     "output_type": "stream",
     "text": [
      "\r",
      "2200it [46:32,  1.49s/it]"
     ]
    },
    {
     "name": "stdout",
     "output_type": "stream",
     "text": [
      "Saved logs/California 0724-5\\checkpoint_best_mse.pth\n",
      "Loaded logs/California 0724-5\\checkpoint_temp_2200.pth\n",
      "iteration:2200 loss:0.3279212415218353 mse:0.3252814710140228\n"
     ]
    },
    {
     "name": "stderr",
     "output_type": "stream",
     "text": [
      "2249it [47:36,  1.01it/s]"
     ]
    },
    {
     "name": "stdout",
     "output_type": "stream",
     "text": [
      "Saved logs/California 0724-5\\checkpoint_temp_2250.pth\n",
      "Loaded logs/California 0724-5\\checkpoint_avg.pth\n"
     ]
    },
    {
     "name": "stderr",
     "output_type": "stream",
     "text": [
      "\r",
      "2250it [47:37,  1.26s/it]"
     ]
    },
    {
     "name": "stdout",
     "output_type": "stream",
     "text": [
      "Loaded logs/California 0724-5\\checkpoint_temp_2250.pth\n",
      "iteration:2250 loss:0.2755897045135498 mse:0.32686343789100647\n"
     ]
    },
    {
     "name": "stderr",
     "output_type": "stream",
     "text": [
      "2299it [48:39,  1.35s/it]"
     ]
    },
    {
     "name": "stdout",
     "output_type": "stream",
     "text": [
      "Saved logs/California 0724-5\\checkpoint_temp_2300.pth\n",
      "Loaded logs/California 0724-5\\checkpoint_avg.pth\n"
     ]
    },
    {
     "name": "stderr",
     "output_type": "stream",
     "text": [
      "\r",
      "2300it [48:41,  1.55s/it]"
     ]
    },
    {
     "name": "stdout",
     "output_type": "stream",
     "text": [
      "Saved logs/California 0724-5\\checkpoint_best_mse.pth\n",
      "Loaded logs/California 0724-5\\checkpoint_temp_2300.pth\n",
      "iteration:2300 loss:0.2955101728439331 mse:0.3204495906829834\n"
     ]
    },
    {
     "name": "stderr",
     "output_type": "stream",
     "text": [
      "2349it [49:44,  1.36s/it]"
     ]
    },
    {
     "name": "stdout",
     "output_type": "stream",
     "text": [
      "Saved logs/California 0724-5\\checkpoint_temp_2350.pth\n",
      "Loaded logs/California 0724-5\\checkpoint_avg.pth\n"
     ]
    },
    {
     "name": "stderr",
     "output_type": "stream",
     "text": [
      "\r",
      "2350it [49:46,  1.54s/it]"
     ]
    },
    {
     "name": "stdout",
     "output_type": "stream",
     "text": [
      "Saved logs/California 0724-5\\checkpoint_best_mse.pth\n",
      "Loaded logs/California 0724-5\\checkpoint_temp_2350.pth\n",
      "iteration:2350 loss:0.3030434250831604 mse:0.31569191813468933\n"
     ]
    },
    {
     "name": "stderr",
     "output_type": "stream",
     "text": [
      "2399it [50:48,  1.29s/it]"
     ]
    },
    {
     "name": "stdout",
     "output_type": "stream",
     "text": [
      "Saved logs/California 0724-5\\checkpoint_temp_2400.pth\n",
      "Loaded logs/California 0724-5\\checkpoint_avg.pth\n"
     ]
    },
    {
     "name": "stderr",
     "output_type": "stream",
     "text": [
      "\r",
      "2400it [50:50,  1.50s/it]"
     ]
    },
    {
     "name": "stdout",
     "output_type": "stream",
     "text": [
      "Saved logs/California 0724-5\\checkpoint_best_mse.pth\n",
      "Loaded logs/California 0724-5\\checkpoint_temp_2400.pth\n",
      "iteration:2400 loss:0.2730378806591034 mse:0.3122069537639618\n"
     ]
    },
    {
     "name": "stderr",
     "output_type": "stream",
     "text": [
      "2449it [51:52,  1.28s/it]"
     ]
    },
    {
     "name": "stdout",
     "output_type": "stream",
     "text": [
      "Saved logs/California 0724-5\\checkpoint_temp_2450.pth\n",
      "Loaded logs/California 0724-5\\checkpoint_avg.pth\n"
     ]
    },
    {
     "name": "stderr",
     "output_type": "stream",
     "text": [
      "\r",
      "2450it [51:54,  1.50s/it]"
     ]
    },
    {
     "name": "stdout",
     "output_type": "stream",
     "text": [
      "Saved logs/California 0724-5\\checkpoint_best_mse.pth\n",
      "Loaded logs/California 0724-5\\checkpoint_temp_2450.pth\n",
      "iteration:2450 loss:0.28887832164764404 mse:0.31025251746177673\n"
     ]
    },
    {
     "name": "stderr",
     "output_type": "stream",
     "text": [
      "2499it [52:58,  1.17s/it]"
     ]
    },
    {
     "name": "stdout",
     "output_type": "stream",
     "text": [
      "Saved logs/California 0724-5\\checkpoint_temp_2500.pth\n",
      "Loaded logs/California 0724-5\\checkpoint_avg.pth\n"
     ]
    },
    {
     "name": "stderr",
     "output_type": "stream",
     "text": [
      "\r",
      "2500it [53:00,  1.44s/it]"
     ]
    },
    {
     "name": "stdout",
     "output_type": "stream",
     "text": [
      "Saved logs/California 0724-5\\checkpoint_best_mse.pth\n",
      "Loaded logs/California 0724-5\\checkpoint_temp_2500.pth\n",
      "iteration:2500 loss:0.33414143323898315 mse:0.30976471304893494\n"
     ]
    },
    {
     "name": "stderr",
     "output_type": "stream",
     "text": [
      "2549it [54:05,  1.12s/it]"
     ]
    },
    {
     "name": "stdout",
     "output_type": "stream",
     "text": [
      "Saved logs/California 0724-5\\checkpoint_temp_2550.pth\n",
      "Loaded logs/California 0724-5\\checkpoint_avg.pth\n"
     ]
    },
    {
     "name": "stderr",
     "output_type": "stream",
     "text": [
      "\r",
      "2550it [54:07,  1.41s/it]"
     ]
    },
    {
     "name": "stdout",
     "output_type": "stream",
     "text": [
      "Saved logs/California 0724-5\\checkpoint_best_mse.pth\n",
      "Loaded logs/California 0724-5\\checkpoint_temp_2550.pth\n",
      "iteration:2550 loss:0.2793075740337372 mse:0.3088119626045227\n"
     ]
    },
    {
     "name": "stderr",
     "output_type": "stream",
     "text": [
      "2599it [55:12,  1.39s/it]"
     ]
    },
    {
     "name": "stdout",
     "output_type": "stream",
     "text": [
      "Saved logs/California 0724-5\\checkpoint_temp_2600.pth\n",
      "Loaded logs/California 0724-5\\checkpoint_avg.pth\n"
     ]
    },
    {
     "name": "stderr",
     "output_type": "stream",
     "text": [
      "\r",
      "2600it [55:13,  1.26s/it]"
     ]
    },
    {
     "name": "stdout",
     "output_type": "stream",
     "text": [
      "Loaded logs/California 0724-5\\checkpoint_temp_2600.pth\n",
      "iteration:2600 loss:0.3126406669616699 mse:0.31469038128852844\n"
     ]
    },
    {
     "name": "stderr",
     "output_type": "stream",
     "text": [
      "2649it [56:18,  1.34s/it]"
     ]
    },
    {
     "name": "stdout",
     "output_type": "stream",
     "text": [
      "Saved logs/California 0724-5\\checkpoint_temp_2650.pth\n",
      "Loaded logs/California 0724-5\\checkpoint_avg.pth\n"
     ]
    },
    {
     "name": "stderr",
     "output_type": "stream",
     "text": [
      "\r",
      "2650it [56:20,  1.55s/it]"
     ]
    },
    {
     "name": "stdout",
     "output_type": "stream",
     "text": [
      "Loaded logs/California 0724-5\\checkpoint_temp_2650.pth\n",
      "iteration:2650 loss:0.29832375049591064 mse:0.31648018956184387\n"
     ]
    },
    {
     "name": "stderr",
     "output_type": "stream",
     "text": [
      "\r",
      "2650it [56:22,  1.28s/it]"
     ]
    },
    {
     "name": "stdout",
     "output_type": "stream",
     "text": [
      "BREAK. There is no improvment for 100 steps\n",
      "Best step:  2550\n",
      "Best Val MSE: 0.30881\n"
     ]
    },
    {
     "name": "stderr",
     "output_type": "stream",
     "text": [
      "\n"
     ]
    }
   ],
   "source": [
    "for batch in tqdm(lib.iterate_minibatches(train_x, train_y, batch_size=1024, \n",
    "                                                shuffle=True, epochs=300)):\n",
    "    \n",
    "    metrics = trainer.train_on_batch(*batch, device=device)\n",
    "    \n",
    "    loss_history2.append(metrics['loss'])\n",
    "\n",
    "    if trainer.step % report_frequency == 0:\n",
    "        trainer.save_checkpoint()\n",
    "        trainer.average_checkpoints(out_tag='avg')\n",
    "        trainer.load_checkpoint(tag='avg')\n",
    "        mse = trainer.evaluate_mse(\n",
    "            valid_x, valid_y, device=device, batch_size=1024)\n",
    "\n",
    "        if mse < best_mse:\n",
    "            best_mse = mse\n",
    "            best_step_mse = trainer.step\n",
    "            trainer.save_checkpoint(tag='best_mse')\n",
    "        mse_history2.append(mse)\n",
    "        \n",
    "        trainer.load_checkpoint()  # last\n",
    "        trainer.remove_old_temp_checkpoints()\n",
    "        \n",
    "        print(\"iteration:{} loss:{} mse:{}\".format(trainer.step, metrics['loss'], mse))\n",
    "#         clear_output(True)\n",
    "#         plt.figure(figsize=[18, 6])\n",
    "#         plt.subplot(1, 2, 1)\n",
    "#         plt.plot(loss_history)\n",
    "#         plt.title('Loss')\n",
    "#         plt.grid()\n",
    "#         plt.subplot(1, 2, 2)\n",
    "#         plt.plot(mse_history)\n",
    "#         plt.title('MSE')\n",
    "#         plt.grid()\n",
    "#         plt.show()\n",
    "#         print(\"Loss %.5f\" % (metrics['loss']))\n",
    "#         print(\"Val MSE: %0.5f\" % (mse))\n",
    "    if trainer.step > best_step_mse + early_stopping_rounds:\n",
    "        print('BREAK. There is no improvment for {} steps'.format(early_stopping_rounds))\n",
    "        print(\"Best step: \", best_step_mse)\n",
    "        print(\"Best Val MSE: %0.5f\" % (best_mse))\n",
    "        break"
   ]
  },
  {
   "cell_type": "code",
   "execution_count": 70,
   "metadata": {},
   "outputs": [
    {
     "name": "stdout",
     "output_type": "stream",
     "text": [
      "RMSE: 0.5720551013946533\n",
      "Pseudo R^2: 0.6824775436083872\n"
     ]
    }
   ],
   "source": [
    "y_pred2 = trainer.get_prediction(test_x, test_y, device=device)\n",
    "print('RMSE: {}'.format(np.sqrt(mean_squared_error(test_y, y_pred2))))\n",
    "print('Pseudo R^2: {}'.format(getpr2(test_y, y_pred2)))"
   ]
  },
  {
   "cell_type": "code",
   "execution_count": 75,
   "metadata": {},
   "outputs": [
    {
     "data": {
      "image/png": "[encoded data removed]",
      "text/plain": [
       "<Figure size 360x360 with 1 Axes>"
      ]
     },
     "metadata": {
      "needs_background": "light"
     },
     "output_type": "display_data"
    }
   ],
   "source": [
    "# Observed y vs fitted y\n",
    "y_df = pd.DataFrame({'obsy':test_y, 'predy':y_pred2})\n",
    "sns.relplot(x='obsy', y='predy', data=y_df, color=\"mediumturquoise\")\n",
    "plt.plot([-2, 3.2], [-2, 3.2], color=\"slateblue\")\n",
    "plt.title(\"Observed y vs fitted y in NODE case 2\");"
   ]
  },
  {
   "cell_type": "code",
   "execution_count": 72,
   "metadata": {},
   "outputs": [
    {
     "name": "stdout",
     "output_type": "stream",
     "text": [
      "1.7617368\n",
      "-1.2490935\n"
     ]
    }
   ],
   "source": [
    "print(np.max(y_pred2))\n",
    "print(np.min(y_pred2))"
   ]
  },
  {
   "cell_type": "code",
   "execution_count": 74,
   "metadata": {},
   "outputs": [
    {
     "data": {
      "image/png": "[encoded data removed]",
      "text/plain": [
       "<Figure size 432x288 with 1 Axes>"
      ]
     },
     "metadata": {
      "needs_background": "light"
     },
     "output_type": "display_data"
    }
   ],
   "source": [
    "plt.plot(torch.stack(loss_history2).detach().numpy());"
   ]
  },
  {
   "cell_type": "markdown",
   "metadata": {},
   "source": [
    "#### case 3: hidden layer의 dimension을 더 크게"
   ]
  },
  {
   "cell_type": "code",
   "execution_count": 78,
   "metadata": {},
   "outputs": [
    {
     "name": "stdout",
     "output_type": "stream",
     "text": [
      "experiment: California 0724-7\n"
     ]
    }
   ],
   "source": [
    "experiment_name = 'California 0724-7'  # experiment 이름 지정\n",
    "print(\"experiment:\", experiment_name)\n",
    "\n",
    "in_features = train_x.shape[1]\n",
    "\n",
    "model = nn.Sequential(\n",
    "    lib.DenseBlock(in_features, 128, num_layers=3, tree_dim=3, depth=6, flatten_output=False,\n",
    "                   choice_function=lib.entmax15, bin_function=lib.entmoid15),\n",
    "    lib.Lambda(lambda x: x[..., 0].mean(dim=-1)),  # average first channels of every tree\n",
    "    \n",
    ").to(device)\n",
    "\n",
    "# with torch.no_grad():\n",
    "#     res = model(torch.as_tensor(train_x[:5000], device=device, dtype=torch.float32))\n",
    "    # trigger data-aware init\n",
    "    \n",
    "if torch.cuda.device_count() > 1:\n",
    "    model = nn.DataParallel(model)\n",
    "    \n",
    "optimizer_params = { 'nus':(0.7, 1.0), 'betas':(0.95, 0.998) }\n",
    "trainer = lib.Trainer(\n",
    "    model=model, loss_function=F.mse_loss,\n",
    "    experiment_name=experiment_name,\n",
    "    warm_start=False,\n",
    "    Optimizer=QHAdam,\n",
    "    optimizer_params=optimizer_params,\n",
    "    verbose=True,\n",
    "    n_last_checkpoints=5\n",
    ")\n",
    "\n",
    "loss_history3, mse_history3 = [], []\n",
    "best_mse = float('inf')\n",
    "best_step_mse = 0\n",
    "early_stopping_rounds = 100\n",
    "report_frequency = 50"
   ]
  },
  {
   "cell_type": "code",
   "execution_count": 79,
   "metadata": {
    "scrolled": true
   },
   "outputs": [
    {
     "name": "stderr",
     "output_type": "stream",
     "text": [
      "49it [01:53,  2.54s/it]"
     ]
    },
    {
     "name": "stdout",
     "output_type": "stream",
     "text": [
      "Saved logs/California 0724-7\\checkpoint_temp_50.pth\n",
      "Loaded logs/California 0724-7\\checkpoint_avg.pth\n"
     ]
    },
    {
     "name": "stderr",
     "output_type": "stream",
     "text": [
      "\r",
      "50it [01:57,  3.02s/it]"
     ]
    },
    {
     "name": "stdout",
     "output_type": "stream",
     "text": [
      "Saved logs/California 0724-7\\checkpoint_best_mse.pth\n",
      "Loaded logs/California 0724-7\\checkpoint_temp_50.pth\n",
      "iteration:50 loss:0.959396481513977 mse:0.9265832304954529\n"
     ]
    },
    {
     "name": "stderr",
     "output_type": "stream",
     "text": [
      "99it [03:55,  2.67s/it]"
     ]
    },
    {
     "name": "stdout",
     "output_type": "stream",
     "text": [
      "Saved logs/California 0724-7\\checkpoint_temp_100.pth\n",
      "Loaded logs/California 0724-7\\checkpoint_avg.pth\n"
     ]
    },
    {
     "name": "stderr",
     "output_type": "stream",
     "text": [
      "\r",
      "100it [03:59,  3.16s/it]"
     ]
    },
    {
     "name": "stdout",
     "output_type": "stream",
     "text": [
      "Saved logs/California 0724-7\\checkpoint_best_mse.pth\n",
      "Loaded logs/California 0724-7\\checkpoint_temp_100.pth\n",
      "iteration:100 loss:0.7585252523422241 mse:0.8721900582313538\n"
     ]
    },
    {
     "name": "stderr",
     "output_type": "stream",
     "text": [
      "149it [06:05,  2.65s/it]"
     ]
    },
    {
     "name": "stdout",
     "output_type": "stream",
     "text": [
      "Saved logs/California 0724-7\\checkpoint_temp_150.pth\n",
      "Loaded logs/California 0724-7\\checkpoint_avg.pth\n"
     ]
    },
    {
     "name": "stderr",
     "output_type": "stream",
     "text": [
      "\r",
      "150it [06:10,  3.22s/it]"
     ]
    },
    {
     "name": "stdout",
     "output_type": "stream",
     "text": [
      "Saved logs/California 0724-7\\checkpoint_best_mse.pth\n",
      "Loaded logs/California 0724-7\\checkpoint_temp_150.pth\n",
      "iteration:150 loss:0.7289824485778809 mse:0.8278679847717285\n"
     ]
    },
    {
     "name": "stderr",
     "output_type": "stream",
     "text": [
      "199it [08:16,  2.63s/it]"
     ]
    },
    {
     "name": "stdout",
     "output_type": "stream",
     "text": [
      "Saved logs/California 0724-7\\checkpoint_temp_200.pth\n",
      "Loaded logs/California 0724-7\\checkpoint_avg.pth\n"
     ]
    },
    {
     "name": "stderr",
     "output_type": "stream",
     "text": [
      "\r",
      "200it [08:21,  3.14s/it]"
     ]
    },
    {
     "name": "stdout",
     "output_type": "stream",
     "text": [
      "Saved logs/California 0724-7\\checkpoint_best_mse.pth\n",
      "Loaded logs/California 0724-7\\checkpoint_temp_200.pth\n",
      "iteration:200 loss:0.6567076444625854 mse:0.789910078048706\n"
     ]
    },
    {
     "name": "stderr",
     "output_type": "stream",
     "text": [
      "249it [10:33,  2.47s/it]"
     ]
    },
    {
     "name": "stdout",
     "output_type": "stream",
     "text": [
      "Saved logs/California 0724-7\\checkpoint_temp_250.pth\n",
      "Loaded logs/California 0724-7\\checkpoint_avg.pth\n"
     ]
    },
    {
     "name": "stderr",
     "output_type": "stream",
     "text": [
      "\r",
      "250it [10:38,  3.15s/it]"
     ]
    },
    {
     "name": "stdout",
     "output_type": "stream",
     "text": [
      "Saved logs/California 0724-7\\checkpoint_best_mse.pth\n",
      "Loaded logs/California 0724-7\\checkpoint_temp_250.pth\n",
      "iteration:250 loss:0.6358450651168823 mse:0.7572057247161865\n"
     ]
    },
    {
     "name": "stderr",
     "output_type": "stream",
     "text": [
      "299it [12:48,  2.16s/it]"
     ]
    },
    {
     "name": "stdout",
     "output_type": "stream",
     "text": [
      "Saved logs/California 0724-7\\checkpoint_temp_300.pth\n",
      "Loaded logs/California 0724-7\\checkpoint_avg.pth\n"
     ]
    },
    {
     "name": "stderr",
     "output_type": "stream",
     "text": [
      "\r",
      "300it [12:53,  2.98s/it]"
     ]
    },
    {
     "name": "stdout",
     "output_type": "stream",
     "text": [
      "Saved logs/California 0724-7\\checkpoint_best_mse.pth\n",
      "Loaded logs/California 0724-7\\checkpoint_temp_300.pth\n",
      "iteration:300 loss:0.6067975759506226 mse:0.6958487033843994\n"
     ]
    },
    {
     "name": "stderr",
     "output_type": "stream",
     "text": [
      "349it [15:02,  2.77s/it]"
     ]
    },
    {
     "name": "stdout",
     "output_type": "stream",
     "text": [
      "Saved logs/California 0724-7\\checkpoint_temp_350.pth\n",
      "Loaded logs/California 0724-7\\checkpoint_avg.pth\n"
     ]
    },
    {
     "name": "stderr",
     "output_type": "stream",
     "text": [
      "\r",
      "350it [15:07,  3.29s/it]"
     ]
    },
    {
     "name": "stdout",
     "output_type": "stream",
     "text": [
      "Saved logs/California 0724-7\\checkpoint_best_mse.pth\n",
      "Loaded logs/California 0724-7\\checkpoint_temp_350.pth\n",
      "iteration:350 loss:0.5513278245925903 mse:0.647891104221344\n"
     ]
    },
    {
     "name": "stderr",
     "output_type": "stream",
     "text": [
      "399it [17:10,  2.60s/it]"
     ]
    },
    {
     "name": "stdout",
     "output_type": "stream",
     "text": [
      "Saved logs/California 0724-7\\checkpoint_temp_400.pth\n",
      "Loaded logs/California 0724-7\\checkpoint_avg.pth\n"
     ]
    },
    {
     "name": "stderr",
     "output_type": "stream",
     "text": [
      "\r",
      "400it [17:14,  3.08s/it]"
     ]
    },
    {
     "name": "stdout",
     "output_type": "stream",
     "text": [
      "Saved logs/California 0724-7\\checkpoint_best_mse.pth\n",
      "Loaded logs/California 0724-7\\checkpoint_temp_400.pth\n",
      "iteration:400 loss:0.5273163318634033 mse:0.6086288690567017\n"
     ]
    },
    {
     "name": "stderr",
     "output_type": "stream",
     "text": [
      "449it [19:17,  2.65s/it]"
     ]
    },
    {
     "name": "stdout",
     "output_type": "stream",
     "text": [
      "Saved logs/California 0724-7\\checkpoint_temp_450.pth\n",
      "Loaded logs/California 0724-7\\checkpoint_avg.pth\n"
     ]
    },
    {
     "name": "stderr",
     "output_type": "stream",
     "text": [
      "\r",
      "450it [19:21,  3.23s/it]"
     ]
    },
    {
     "name": "stdout",
     "output_type": "stream",
     "text": [
      "Saved logs/California 0724-7\\checkpoint_best_mse.pth\n",
      "Loaded logs/California 0724-7\\checkpoint_temp_450.pth\n",
      "iteration:450 loss:0.45426735281944275 mse:0.5762139558792114\n"
     ]
    },
    {
     "name": "stderr",
     "output_type": "stream",
     "text": [
      "499it [21:32,  2.87s/it]"
     ]
    },
    {
     "name": "stdout",
     "output_type": "stream",
     "text": [
      "Saved logs/California 0724-7\\checkpoint_temp_500.pth\n",
      "Loaded logs/California 0724-7\\checkpoint_avg.pth\n"
     ]
    },
    {
     "name": "stderr",
     "output_type": "stream",
     "text": [
      "\r",
      "500it [21:37,  3.40s/it]"
     ]
    },
    {
     "name": "stdout",
     "output_type": "stream",
     "text": [
      "Saved logs/California 0724-7\\checkpoint_best_mse.pth\n",
      "Loaded logs/California 0724-7\\checkpoint_temp_500.pth\n",
      "iteration:500 loss:0.48206526041030884 mse:0.5512260794639587\n"
     ]
    },
    {
     "name": "stderr",
     "output_type": "stream",
     "text": [
      "549it [23:44,  2.39s/it]"
     ]
    },
    {
     "name": "stdout",
     "output_type": "stream",
     "text": [
      "Saved logs/California 0724-7\\checkpoint_temp_550.pth\n",
      "Loaded logs/California 0724-7\\checkpoint_avg.pth\n"
     ]
    },
    {
     "name": "stderr",
     "output_type": "stream",
     "text": [
      "\r",
      "550it [23:49,  2.93s/it]"
     ]
    },
    {
     "name": "stdout",
     "output_type": "stream",
     "text": [
      "Saved logs/California 0724-7\\checkpoint_best_mse.pth\n",
      "Loaded logs/California 0724-7\\checkpoint_temp_550.pth\n",
      "iteration:550 loss:0.44697731733322144 mse:0.5298709273338318\n"
     ]
    },
    {
     "name": "stderr",
     "output_type": "stream",
     "text": [
      "599it [25:54,  2.39s/it]"
     ]
    },
    {
     "name": "stdout",
     "output_type": "stream",
     "text": [
      "Saved logs/California 0724-7\\checkpoint_temp_600.pth\n",
      "Loaded logs/California 0724-7\\checkpoint_avg.pth\n"
     ]
    },
    {
     "name": "stderr",
     "output_type": "stream",
     "text": [
      "\r",
      "600it [25:58,  2.98s/it]"
     ]
    },
    {
     "name": "stdout",
     "output_type": "stream",
     "text": [
      "Saved logs/California 0724-7\\checkpoint_best_mse.pth\n",
      "Loaded logs/California 0724-7\\checkpoint_temp_600.pth\n",
      "iteration:600 loss:0.45989489555358887 mse:0.5073018670082092\n"
     ]
    },
    {
     "name": "stderr",
     "output_type": "stream",
     "text": [
      "649it [28:12,  2.89s/it]"
     ]
    },
    {
     "name": "stdout",
     "output_type": "stream",
     "text": [
      "Saved logs/California 0724-7\\checkpoint_temp_650.pth\n",
      "Loaded logs/California 0724-7\\checkpoint_avg.pth\n"
     ]
    },
    {
     "name": "stderr",
     "output_type": "stream",
     "text": [
      "\r",
      "650it [28:15,  2.75s/it]"
     ]
    },
    {
     "name": "stdout",
     "output_type": "stream",
     "text": [
      "Saved logs/California 0724-7\\checkpoint_best_mse.pth\n",
      "Loaded logs/California 0724-7\\checkpoint_temp_650.pth\n",
      "iteration:650 loss:0.3756207525730133 mse:0.48970142006874084\n"
     ]
    },
    {
     "name": "stderr",
     "output_type": "stream",
     "text": [
      "699it [30:27,  2.69s/it]"
     ]
    },
    {
     "name": "stdout",
     "output_type": "stream",
     "text": [
      "Saved logs/California 0724-7\\checkpoint_temp_700.pth\n",
      "Loaded logs/California 0724-7\\checkpoint_avg.pth\n"
     ]
    },
    {
     "name": "stderr",
     "output_type": "stream",
     "text": [
      "\r",
      "700it [30:31,  3.26s/it]"
     ]
    },
    {
     "name": "stdout",
     "output_type": "stream",
     "text": [
      "Saved logs/California 0724-7\\checkpoint_best_mse.pth\n",
      "Loaded logs/California 0724-7\\checkpoint_temp_700.pth\n",
      "iteration:700 loss:0.44980916380882263 mse:0.4736023247241974\n"
     ]
    },
    {
     "name": "stderr",
     "output_type": "stream",
     "text": [
      "749it [32:42,  2.73s/it]"
     ]
    },
    {
     "name": "stdout",
     "output_type": "stream",
     "text": [
      "Saved logs/California 0724-7\\checkpoint_temp_750.pth\n",
      "Loaded logs/California 0724-7\\checkpoint_avg.pth\n"
     ]
    },
    {
     "name": "stderr",
     "output_type": "stream",
     "text": [
      "\r",
      "750it [32:47,  3.38s/it]"
     ]
    },
    {
     "name": "stdout",
     "output_type": "stream",
     "text": [
      "Saved logs/California 0724-7\\checkpoint_best_mse.pth\n",
      "Loaded logs/California 0724-7\\checkpoint_temp_750.pth\n",
      "iteration:750 loss:0.39831995964050293 mse:0.45785775780677795\n"
     ]
    },
    {
     "name": "stderr",
     "output_type": "stream",
     "text": [
      "799it [34:59,  2.87s/it]"
     ]
    },
    {
     "name": "stdout",
     "output_type": "stream",
     "text": [
      "Saved logs/California 0724-7\\checkpoint_temp_800.pth\n",
      "Loaded logs/California 0724-7\\checkpoint_avg.pth\n"
     ]
    },
    {
     "name": "stderr",
     "output_type": "stream",
     "text": [
      "\r",
      "800it [35:04,  3.56s/it]"
     ]
    },
    {
     "name": "stdout",
     "output_type": "stream",
     "text": [
      "Saved logs/California 0724-7\\checkpoint_best_mse.pth\n",
      "Loaded logs/California 0724-7\\checkpoint_temp_800.pth\n",
      "iteration:800 loss:0.36541423201560974 mse:0.444968581199646\n"
     ]
    },
    {
     "name": "stderr",
     "output_type": "stream",
     "text": [
      "849it [37:14,  2.77s/it]"
     ]
    },
    {
     "name": "stdout",
     "output_type": "stream",
     "text": [
      "Saved logs/California 0724-7\\checkpoint_temp_850.pth\n",
      "Loaded logs/California 0724-7\\checkpoint_avg.pth\n"
     ]
    },
    {
     "name": "stderr",
     "output_type": "stream",
     "text": [
      "\r",
      "850it [37:18,  3.36s/it]"
     ]
    },
    {
     "name": "stdout",
     "output_type": "stream",
     "text": [
      "Saved logs/California 0724-7\\checkpoint_best_mse.pth\n",
      "Loaded logs/California 0724-7\\checkpoint_temp_850.pth\n",
      "iteration:850 loss:0.40834420919418335 mse:0.43353578448295593\n"
     ]
    },
    {
     "name": "stderr",
     "output_type": "stream",
     "text": [
      "899it [39:29,  2.56s/it]"
     ]
    },
    {
     "name": "stdout",
     "output_type": "stream",
     "text": [
      "Saved logs/California 0724-7\\checkpoint_temp_900.pth\n",
      "Loaded logs/California 0724-7\\checkpoint_avg.pth\n"
     ]
    },
    {
     "name": "stderr",
     "output_type": "stream",
     "text": [
      "\r",
      "900it [39:34,  3.26s/it]"
     ]
    },
    {
     "name": "stdout",
     "output_type": "stream",
     "text": [
      "Saved logs/California 0724-7\\checkpoint_best_mse.pth\n",
      "Loaded logs/California 0724-7\\checkpoint_temp_900.pth\n",
      "iteration:900 loss:0.42168909311294556 mse:0.4227953851222992\n"
     ]
    },
    {
     "name": "stderr",
     "output_type": "stream",
     "text": [
      "949it [41:40,  2.19s/it]"
     ]
    },
    {
     "name": "stdout",
     "output_type": "stream",
     "text": [
      "Saved logs/California 0724-7\\checkpoint_temp_950.pth\n",
      "Loaded logs/California 0724-7\\checkpoint_avg.pth\n"
     ]
    },
    {
     "name": "stderr",
     "output_type": "stream",
     "text": [
      "\r",
      "950it [41:44,  2.84s/it]"
     ]
    },
    {
     "name": "stdout",
     "output_type": "stream",
     "text": [
      "Saved logs/California 0724-7\\checkpoint_best_mse.pth\n",
      "Loaded logs/California 0724-7\\checkpoint_temp_950.pth\n",
      "iteration:950 loss:0.39691784977912903 mse:0.413112610578537\n"
     ]
    },
    {
     "name": "stderr",
     "output_type": "stream",
     "text": [
      "999it [43:54,  2.67s/it]"
     ]
    },
    {
     "name": "stdout",
     "output_type": "stream",
     "text": [
      "Saved logs/California 0724-7\\checkpoint_temp_1000.pth\n",
      "Loaded logs/California 0724-7\\checkpoint_avg.pth\n"
     ]
    },
    {
     "name": "stderr",
     "output_type": "stream",
     "text": [
      "\r",
      "1000it [43:58,  3.21s/it]"
     ]
    },
    {
     "name": "stdout",
     "output_type": "stream",
     "text": [
      "Saved logs/California 0724-7\\checkpoint_best_mse.pth\n",
      "Loaded logs/California 0724-7\\checkpoint_temp_1000.pth\n",
      "iteration:1000 loss:0.3989998400211334 mse:0.404158353805542\n"
     ]
    },
    {
     "name": "stderr",
     "output_type": "stream",
     "text": [
      "1049it [45:59,  2.56s/it]"
     ]
    },
    {
     "name": "stdout",
     "output_type": "stream",
     "text": [
      "Saved logs/California 0724-7\\checkpoint_temp_1050.pth\n",
      "Loaded logs/California 0724-7\\checkpoint_avg.pth\n"
     ]
    },
    {
     "name": "stderr",
     "output_type": "stream",
     "text": [
      "\r",
      "1050it [46:03,  3.04s/it]"
     ]
    },
    {
     "name": "stdout",
     "output_type": "stream",
     "text": [
      "Saved logs/California 0724-7\\checkpoint_best_mse.pth\n",
      "Loaded logs/California 0724-7\\checkpoint_temp_1050.pth\n",
      "iteration:1050 loss:0.36422988772392273 mse:0.39589133858680725\n"
     ]
    },
    {
     "name": "stderr",
     "output_type": "stream",
     "text": [
      "1099it [48:07,  2.68s/it]"
     ]
    },
    {
     "name": "stdout",
     "output_type": "stream",
     "text": [
      "Saved logs/California 0724-7\\checkpoint_temp_1100.pth\n",
      "Loaded logs/California 0724-7\\checkpoint_avg.pth\n"
     ]
    },
    {
     "name": "stderr",
     "output_type": "stream",
     "text": [
      "\r",
      "1100it [48:11,  3.14s/it]"
     ]
    },
    {
     "name": "stdout",
     "output_type": "stream",
     "text": [
      "Saved logs/California 0724-7\\checkpoint_best_mse.pth\n",
      "Loaded logs/California 0724-7\\checkpoint_temp_1100.pth\n",
      "iteration:1100 loss:0.4058181643486023 mse:0.38843923807144165\n"
     ]
    },
    {
     "name": "stderr",
     "output_type": "stream",
     "text": [
      "1149it [50:14,  2.47s/it]"
     ]
    },
    {
     "name": "stdout",
     "output_type": "stream",
     "text": [
      "Saved logs/California 0724-7\\checkpoint_temp_1150.pth\n",
      "Loaded logs/California 0724-7\\checkpoint_avg.pth\n"
     ]
    },
    {
     "name": "stderr",
     "output_type": "stream",
     "text": [
      "\r",
      "1150it [50:18,  2.97s/it]"
     ]
    },
    {
     "name": "stdout",
     "output_type": "stream",
     "text": [
      "Saved logs/California 0724-7\\checkpoint_best_mse.pth\n",
      "Loaded logs/California 0724-7\\checkpoint_temp_1150.pth\n",
      "iteration:1150 loss:0.3319892883300781 mse:0.38238704204559326\n"
     ]
    },
    {
     "name": "stderr",
     "output_type": "stream",
     "text": [
      "1199it [52:18,  2.39s/it]"
     ]
    },
    {
     "name": "stdout",
     "output_type": "stream",
     "text": [
      "Saved logs/California 0724-7\\checkpoint_temp_1200.pth\n",
      "Loaded logs/California 0724-7\\checkpoint_avg.pth\n"
     ]
    },
    {
     "name": "stderr",
     "output_type": "stream",
     "text": [
      "\r",
      "1200it [52:22,  2.93s/it]"
     ]
    },
    {
     "name": "stdout",
     "output_type": "stream",
     "text": [
      "Saved logs/California 0724-7\\checkpoint_best_mse.pth\n",
      "Loaded logs/California 0724-7\\checkpoint_temp_1200.pth\n",
      "iteration:1200 loss:0.3100748658180237 mse:0.3762679398059845\n"
     ]
    },
    {
     "name": "stderr",
     "output_type": "stream",
     "text": [
      "1249it [54:25,  2.46s/it]"
     ]
    },
    {
     "name": "stdout",
     "output_type": "stream",
     "text": [
      "Saved logs/California 0724-7\\checkpoint_temp_1250.pth\n",
      "Loaded logs/California 0724-7\\checkpoint_avg.pth\n"
     ]
    },
    {
     "name": "stderr",
     "output_type": "stream",
     "text": [
      "\r",
      "1250it [54:30,  3.14s/it]"
     ]
    },
    {
     "name": "stdout",
     "output_type": "stream",
     "text": [
      "Saved logs/California 0724-7\\checkpoint_best_mse.pth\n",
      "Loaded logs/California 0724-7\\checkpoint_temp_1250.pth\n",
      "iteration:1250 loss:0.38096120953559875 mse:0.3700331449508667\n"
     ]
    },
    {
     "name": "stderr",
     "output_type": "stream",
     "text": [
      "1299it [56:37,  2.56s/it]"
     ]
    },
    {
     "name": "stdout",
     "output_type": "stream",
     "text": [
      "Saved logs/California 0724-7\\checkpoint_temp_1300.pth\n",
      "Loaded logs/California 0724-7\\checkpoint_avg.pth\n"
     ]
    },
    {
     "name": "stderr",
     "output_type": "stream",
     "text": [
      "\r",
      "1300it [56:39,  2.44s/it]"
     ]
    },
    {
     "name": "stdout",
     "output_type": "stream",
     "text": [
      "Saved logs/California 0724-7\\checkpoint_best_mse.pth\n",
      "Loaded logs/California 0724-7\\checkpoint_temp_1300.pth\n",
      "iteration:1300 loss:0.2974691689014435 mse:0.3630642890930176\n"
     ]
    },
    {
     "name": "stderr",
     "output_type": "stream",
     "text": [
      "1349it [58:40,  2.56s/it]"
     ]
    },
    {
     "name": "stdout",
     "output_type": "stream",
     "text": [
      "Saved logs/California 0724-7\\checkpoint_temp_1350.pth\n",
      "Loaded logs/California 0724-7\\checkpoint_avg.pth\n"
     ]
    },
    {
     "name": "stderr",
     "output_type": "stream",
     "text": [
      "\r",
      "1350it [58:44,  3.08s/it]"
     ]
    },
    {
     "name": "stdout",
     "output_type": "stream",
     "text": [
      "Saved logs/California 0724-7\\checkpoint_best_mse.pth\n",
      "Loaded logs/California 0724-7\\checkpoint_temp_1350.pth\n",
      "iteration:1350 loss:0.3538419008255005 mse:0.3577885627746582\n"
     ]
    },
    {
     "name": "stderr",
     "output_type": "stream",
     "text": [
      "1399it [1:00:55,  2.79s/it]"
     ]
    },
    {
     "name": "stdout",
     "output_type": "stream",
     "text": [
      "Saved logs/California 0724-7\\checkpoint_temp_1400.pth\n",
      "Loaded logs/California 0724-7\\checkpoint_avg.pth\n"
     ]
    },
    {
     "name": "stderr",
     "output_type": "stream",
     "text": [
      "\r",
      "1400it [1:01:00,  3.27s/it]"
     ]
    },
    {
     "name": "stdout",
     "output_type": "stream",
     "text": [
      "Saved logs/California 0724-7\\checkpoint_best_mse.pth\n",
      "Loaded logs/California 0724-7\\checkpoint_temp_1400.pth\n",
      "iteration:1400 loss:0.31205540895462036 mse:0.35148847103118896\n"
     ]
    },
    {
     "name": "stderr",
     "output_type": "stream",
     "text": [
      "1449it [1:03:13,  2.83s/it]"
     ]
    },
    {
     "name": "stdout",
     "output_type": "stream",
     "text": [
      "Saved logs/California 0724-7\\checkpoint_temp_1450.pth\n",
      "Loaded logs/California 0724-7\\checkpoint_avg.pth\n"
     ]
    },
    {
     "name": "stderr",
     "output_type": "stream",
     "text": [
      "\r",
      "1450it [1:03:18,  3.33s/it]"
     ]
    },
    {
     "name": "stdout",
     "output_type": "stream",
     "text": [
      "Saved logs/California 0724-7\\checkpoint_best_mse.pth\n",
      "Loaded logs/California 0724-7\\checkpoint_temp_1450.pth\n",
      "iteration:1450 loss:0.321483314037323 mse:0.3452815115451813\n"
     ]
    },
    {
     "name": "stderr",
     "output_type": "stream",
     "text": [
      "1499it [1:05:33,  2.95s/it]"
     ]
    },
    {
     "name": "stdout",
     "output_type": "stream",
     "text": [
      "Saved logs/California 0724-7\\checkpoint_temp_1500.pth\n",
      "Loaded logs/California 0724-7\\checkpoint_avg.pth\n"
     ]
    },
    {
     "name": "stderr",
     "output_type": "stream",
     "text": [
      "\r",
      "1500it [1:05:38,  3.48s/it]"
     ]
    },
    {
     "name": "stdout",
     "output_type": "stream",
     "text": [
      "Saved logs/California 0724-7\\checkpoint_best_mse.pth\n",
      "Loaded logs/California 0724-7\\checkpoint_temp_1500.pth\n",
      "iteration:1500 loss:0.340976357460022 mse:0.339878648519516\n"
     ]
    },
    {
     "name": "stderr",
     "output_type": "stream",
     "text": [
      "1549it [1:07:49,  2.52s/it]"
     ]
    },
    {
     "name": "stdout",
     "output_type": "stream",
     "text": [
      "Saved logs/California 0724-7\\checkpoint_temp_1550.pth\n",
      "Loaded logs/California 0724-7\\checkpoint_avg.pth\n"
     ]
    },
    {
     "name": "stderr",
     "output_type": "stream",
     "text": [
      "\r",
      "1550it [1:07:53,  3.13s/it]"
     ]
    },
    {
     "name": "stdout",
     "output_type": "stream",
     "text": [
      "Saved logs/California 0724-7\\checkpoint_best_mse.pth\n",
      "Loaded logs/California 0724-7\\checkpoint_temp_1550.pth\n",
      "iteration:1550 loss:0.2860228717327118 mse:0.3371438682079315\n"
     ]
    },
    {
     "name": "stderr",
     "output_type": "stream",
     "text": [
      "1599it [1:10:02,  2.11s/it]"
     ]
    },
    {
     "name": "stdout",
     "output_type": "stream",
     "text": [
      "Saved logs/California 0724-7\\checkpoint_temp_1600.pth\n",
      "Loaded logs/California 0724-7\\checkpoint_avg.pth\n"
     ]
    },
    {
     "name": "stderr",
     "output_type": "stream",
     "text": [
      "\r",
      "1600it [1:10:06,  2.84s/it]"
     ]
    },
    {
     "name": "stdout",
     "output_type": "stream",
     "text": [
      "Saved logs/California 0724-7\\checkpoint_best_mse.pth\n",
      "Loaded logs/California 0724-7\\checkpoint_temp_1600.pth\n",
      "iteration:1600 loss:0.30858808755874634 mse:0.33193498849868774\n"
     ]
    },
    {
     "name": "stderr",
     "output_type": "stream",
     "text": [
      "1649it [1:12:14,  2.72s/it]"
     ]
    },
    {
     "name": "stdout",
     "output_type": "stream",
     "text": [
      "Saved logs/California 0724-7\\checkpoint_temp_1650.pth\n",
      "Loaded logs/California 0724-7\\checkpoint_avg.pth\n"
     ]
    },
    {
     "name": "stderr",
     "output_type": "stream",
     "text": [
      "\r",
      "1650it [1:12:18,  3.23s/it]"
     ]
    },
    {
     "name": "stdout",
     "output_type": "stream",
     "text": [
      "Saved logs/California 0724-7\\checkpoint_best_mse.pth\n",
      "Loaded logs/California 0724-7\\checkpoint_temp_1650.pth\n",
      "iteration:1650 loss:0.30853790044784546 mse:0.32867634296417236\n"
     ]
    },
    {
     "name": "stderr",
     "output_type": "stream",
     "text": [
      "1699it [1:14:33,  2.83s/it]"
     ]
    },
    {
     "name": "stdout",
     "output_type": "stream",
     "text": [
      "Saved logs/California 0724-7\\checkpoint_temp_1700.pth\n",
      "Loaded logs/California 0724-7\\checkpoint_avg.pth\n"
     ]
    },
    {
     "name": "stderr",
     "output_type": "stream",
     "text": [
      "\r",
      "1700it [1:14:38,  3.37s/it]"
     ]
    },
    {
     "name": "stdout",
     "output_type": "stream",
     "text": [
      "Saved logs/California 0724-7\\checkpoint_best_mse.pth\n",
      "Loaded logs/California 0724-7\\checkpoint_temp_1700.pth\n",
      "iteration:1700 loss:0.33170363306999207 mse:0.325710266828537\n"
     ]
    },
    {
     "name": "stderr",
     "output_type": "stream",
     "text": [
      "1749it [1:16:53,  2.93s/it]"
     ]
    },
    {
     "name": "stdout",
     "output_type": "stream",
     "text": [
      "Saved logs/California 0724-7\\checkpoint_temp_1750.pth\n",
      "Loaded logs/California 0724-7\\checkpoint_avg.pth\n"
     ]
    },
    {
     "name": "stderr",
     "output_type": "stream",
     "text": [
      "\r",
      "1750it [1:16:58,  3.59s/it]"
     ]
    },
    {
     "name": "stdout",
     "output_type": "stream",
     "text": [
      "Saved logs/California 0724-7\\checkpoint_best_mse.pth\n",
      "Loaded logs/California 0724-7\\checkpoint_temp_1750.pth\n",
      "iteration:1750 loss:0.264401376247406 mse:0.3235974907875061\n"
     ]
    },
    {
     "name": "stderr",
     "output_type": "stream",
     "text": [
      "1799it [1:19:19,  2.97s/it]"
     ]
    },
    {
     "name": "stdout",
     "output_type": "stream",
     "text": [
      "Saved logs/California 0724-7\\checkpoint_temp_1800.pth\n",
      "Loaded logs/California 0724-7\\checkpoint_avg.pth\n"
     ]
    },
    {
     "name": "stderr",
     "output_type": "stream",
     "text": [
      "\r",
      "1800it [1:19:24,  3.57s/it]"
     ]
    },
    {
     "name": "stdout",
     "output_type": "stream",
     "text": [
      "Saved logs/California 0724-7\\checkpoint_best_mse.pth\n",
      "Loaded logs/California 0724-7\\checkpoint_temp_1800.pth\n",
      "iteration:1800 loss:0.2838335335254669 mse:0.32076337933540344\n"
     ]
    },
    {
     "name": "stderr",
     "output_type": "stream",
     "text": [
      "1849it [1:21:45,  2.91s/it]"
     ]
    },
    {
     "name": "stdout",
     "output_type": "stream",
     "text": [
      "Saved logs/California 0724-7\\checkpoint_temp_1850.pth\n",
      "Loaded logs/California 0724-7\\checkpoint_avg.pth\n"
     ]
    },
    {
     "name": "stderr",
     "output_type": "stream",
     "text": [
      "\r",
      "1850it [1:21:49,  3.32s/it]"
     ]
    },
    {
     "name": "stdout",
     "output_type": "stream",
     "text": [
      "Saved logs/California 0724-7\\checkpoint_best_mse.pth\n",
      "Loaded logs/California 0724-7\\checkpoint_temp_1850.pth\n",
      "iteration:1850 loss:0.3042369484901428 mse:0.31858521699905396\n"
     ]
    },
    {
     "name": "stderr",
     "output_type": "stream",
     "text": [
      "1899it [1:23:51,  2.16s/it]"
     ]
    },
    {
     "name": "stdout",
     "output_type": "stream",
     "text": [
      "Saved logs/California 0724-7\\checkpoint_temp_1900.pth\n",
      "Loaded logs/California 0724-7\\checkpoint_avg.pth\n"
     ]
    },
    {
     "name": "stderr",
     "output_type": "stream",
     "text": [
      "\r",
      "1900it [1:23:56,  2.79s/it]"
     ]
    },
    {
     "name": "stdout",
     "output_type": "stream",
     "text": [
      "Saved logs/California 0724-7\\checkpoint_best_mse.pth\n",
      "Loaded logs/California 0724-7\\checkpoint_temp_1900.pth\n",
      "iteration:1900 loss:0.3060416877269745 mse:0.31437718868255615\n"
     ]
    },
    {
     "name": "stderr",
     "output_type": "stream",
     "text": [
      "1949it [1:25:57,  2.60s/it]"
     ]
    },
    {
     "name": "stdout",
     "output_type": "stream",
     "text": [
      "Saved logs/California 0724-7\\checkpoint_temp_1950.pth\n",
      "Loaded logs/California 0724-7\\checkpoint_avg.pth\n"
     ]
    },
    {
     "name": "stderr",
     "output_type": "stream",
     "text": [
      "\r",
      "1950it [1:26:00,  2.46s/it]"
     ]
    },
    {
     "name": "stdout",
     "output_type": "stream",
     "text": [
      "Saved logs/California 0724-7\\checkpoint_best_mse.pth\n",
      "Loaded logs/California 0724-7\\checkpoint_temp_1950.pth\n",
      "iteration:1950 loss:0.26858600974082947 mse:0.31221508979797363\n"
     ]
    },
    {
     "name": "stderr",
     "output_type": "stream",
     "text": [
      "1999it [1:28:14,  2.94s/it]"
     ]
    },
    {
     "name": "stdout",
     "output_type": "stream",
     "text": [
      "Saved logs/California 0724-7\\checkpoint_temp_2000.pth\n",
      "Loaded logs/California 0724-7\\checkpoint_avg.pth\n"
     ]
    },
    {
     "name": "stderr",
     "output_type": "stream",
     "text": [
      "\r",
      "2000it [1:28:19,  3.52s/it]"
     ]
    },
    {
     "name": "stdout",
     "output_type": "stream",
     "text": [
      "Saved logs/California 0724-7\\checkpoint_best_mse.pth\n",
      "Loaded logs/California 0724-7\\checkpoint_temp_2000.pth\n",
      "iteration:2000 loss:0.2776052951812744 mse:0.31006932258605957\n"
     ]
    },
    {
     "name": "stderr",
     "output_type": "stream",
     "text": [
      "2049it [1:30:23,  2.85s/it]"
     ]
    },
    {
     "name": "stdout",
     "output_type": "stream",
     "text": [
      "Saved logs/California 0724-7\\checkpoint_temp_2050.pth\n",
      "Loaded logs/California 0724-7\\checkpoint_avg.pth\n"
     ]
    },
    {
     "name": "stderr",
     "output_type": "stream",
     "text": [
      "\r",
      "2050it [1:30:27,  3.30s/it]"
     ]
    },
    {
     "name": "stdout",
     "output_type": "stream",
     "text": [
      "Saved logs/California 0724-7\\checkpoint_best_mse.pth\n",
      "Loaded logs/California 0724-7\\checkpoint_temp_2050.pth\n",
      "iteration:2050 loss:0.31595396995544434 mse:0.30947139859199524\n"
     ]
    },
    {
     "name": "stderr",
     "output_type": "stream",
     "text": [
      "2099it [1:32:34,  2.63s/it]"
     ]
    },
    {
     "name": "stdout",
     "output_type": "stream",
     "text": [
      "Saved logs/California 0724-7\\checkpoint_temp_2100.pth\n",
      "Loaded logs/California 0724-7\\checkpoint_avg.pth\n"
     ]
    },
    {
     "name": "stderr",
     "output_type": "stream",
     "text": [
      "\r",
      "2100it [1:32:38,  3.22s/it]"
     ]
    },
    {
     "name": "stdout",
     "output_type": "stream",
     "text": [
      "Saved logs/California 0724-7\\checkpoint_best_mse.pth\n",
      "Loaded logs/California 0724-7\\checkpoint_temp_2100.pth\n",
      "iteration:2100 loss:0.29710617661476135 mse:0.3073151409626007\n"
     ]
    },
    {
     "name": "stderr",
     "output_type": "stream",
     "text": [
      "2149it [1:34:46,  2.73s/it]"
     ]
    },
    {
     "name": "stdout",
     "output_type": "stream",
     "text": [
      "Saved logs/California 0724-7\\checkpoint_temp_2150.pth\n",
      "Loaded logs/California 0724-7\\checkpoint_avg.pth\n"
     ]
    },
    {
     "name": "stderr",
     "output_type": "stream",
     "text": [
      "\r",
      "2150it [1:34:51,  3.40s/it]"
     ]
    },
    {
     "name": "stdout",
     "output_type": "stream",
     "text": [
      "Saved logs/California 0724-7\\checkpoint_best_mse.pth\n",
      "Loaded logs/California 0724-7\\checkpoint_temp_2150.pth\n",
      "iteration:2150 loss:0.2853357493877411 mse:0.3048843443393707\n"
     ]
    },
    {
     "name": "stderr",
     "output_type": "stream",
     "text": [
      "2199it [1:36:52,  2.35s/it]"
     ]
    },
    {
     "name": "stdout",
     "output_type": "stream",
     "text": [
      "Saved logs/California 0724-7\\checkpoint_temp_2200.pth\n",
      "Loaded logs/California 0724-7\\checkpoint_avg.pth\n"
     ]
    },
    {
     "name": "stderr",
     "output_type": "stream",
     "text": [
      "\r",
      "2200it [1:36:56,  2.89s/it]"
     ]
    },
    {
     "name": "stdout",
     "output_type": "stream",
     "text": [
      "Saved logs/California 0724-7\\checkpoint_best_mse.pth\n",
      "Loaded logs/California 0724-7\\checkpoint_temp_2200.pth\n",
      "iteration:2200 loss:0.29875415563583374 mse:0.3033030033111572\n"
     ]
    },
    {
     "name": "stderr",
     "output_type": "stream",
     "text": [
      "2249it [1:38:58,  1.98s/it]"
     ]
    },
    {
     "name": "stdout",
     "output_type": "stream",
     "text": [
      "Saved logs/California 0724-7\\checkpoint_temp_2250.pth\n",
      "Loaded logs/California 0724-7\\checkpoint_avg.pth\n"
     ]
    },
    {
     "name": "stderr",
     "output_type": "stream",
     "text": [
      "\r",
      "2250it [1:39:02,  2.63s/it]"
     ]
    },
    {
     "name": "stdout",
     "output_type": "stream",
     "text": [
      "Saved logs/California 0724-7\\checkpoint_best_mse.pth\n",
      "Loaded logs/California 0724-7\\checkpoint_temp_2250.pth\n",
      "iteration:2250 loss:0.2860040068626404 mse:0.30143946409225464\n"
     ]
    },
    {
     "name": "stderr",
     "output_type": "stream",
     "text": [
      "2299it [1:41:03,  2.56s/it]"
     ]
    },
    {
     "name": "stdout",
     "output_type": "stream",
     "text": [
      "Saved logs/California 0724-7\\checkpoint_temp_2300.pth\n",
      "Loaded logs/California 0724-7\\checkpoint_avg.pth\n"
     ]
    },
    {
     "name": "stderr",
     "output_type": "stream",
     "text": [
      "\r",
      "2300it [1:41:07,  3.04s/it]"
     ]
    },
    {
     "name": "stdout",
     "output_type": "stream",
     "text": [
      "Saved logs/California 0724-7\\checkpoint_best_mse.pth\n",
      "Loaded logs/California 0724-7\\checkpoint_temp_2300.pth\n",
      "iteration:2300 loss:0.2795626223087311 mse:0.29984551668167114\n"
     ]
    },
    {
     "name": "stderr",
     "output_type": "stream",
     "text": [
      "2349it [1:43:07,  2.55s/it]"
     ]
    },
    {
     "name": "stdout",
     "output_type": "stream",
     "text": [
      "Saved logs/California 0724-7\\checkpoint_temp_2350.pth\n",
      "Loaded logs/California 0724-7\\checkpoint_avg.pth\n"
     ]
    },
    {
     "name": "stderr",
     "output_type": "stream",
     "text": [
      "\r",
      "2350it [1:43:11,  3.05s/it]"
     ]
    },
    {
     "name": "stdout",
     "output_type": "stream",
     "text": [
      "Saved logs/California 0724-7\\checkpoint_best_mse.pth\n",
      "Loaded logs/California 0724-7\\checkpoint_temp_2350.pth\n",
      "iteration:2350 loss:0.2567630708217621 mse:0.29828956723213196\n"
     ]
    },
    {
     "name": "stderr",
     "output_type": "stream",
     "text": [
      "2399it [1:45:15,  2.68s/it]"
     ]
    },
    {
     "name": "stdout",
     "output_type": "stream",
     "text": [
      "Saved logs/California 0724-7\\checkpoint_temp_2400.pth\n",
      "Loaded logs/California 0724-7\\checkpoint_avg.pth\n"
     ]
    },
    {
     "name": "stderr",
     "output_type": "stream",
     "text": [
      "\r",
      "2400it [1:45:20,  3.36s/it]"
     ]
    },
    {
     "name": "stdout",
     "output_type": "stream",
     "text": [
      "Saved logs/California 0724-7\\checkpoint_best_mse.pth\n",
      "Loaded logs/California 0724-7\\checkpoint_temp_2400.pth\n",
      "iteration:2400 loss:0.279690682888031 mse:0.29717716574668884\n"
     ]
    },
    {
     "name": "stderr",
     "output_type": "stream",
     "text": [
      "2449it [1:47:22,  2.50s/it]"
     ]
    },
    {
     "name": "stdout",
     "output_type": "stream",
     "text": [
      "Saved logs/California 0724-7\\checkpoint_temp_2450.pth\n",
      "Loaded logs/California 0724-7\\checkpoint_avg.pth\n"
     ]
    },
    {
     "name": "stderr",
     "output_type": "stream",
     "text": [
      "\r",
      "2450it [1:47:27,  2.99s/it]"
     ]
    },
    {
     "name": "stdout",
     "output_type": "stream",
     "text": [
      "Saved logs/California 0724-7\\checkpoint_best_mse.pth\n",
      "Loaded logs/California 0724-7\\checkpoint_temp_2450.pth\n",
      "iteration:2450 loss:0.3230314552783966 mse:0.295137494802475\n"
     ]
    },
    {
     "name": "stderr",
     "output_type": "stream",
     "text": [
      "2499it [1:49:26,  2.37s/it]"
     ]
    },
    {
     "name": "stdout",
     "output_type": "stream",
     "text": [
      "Saved logs/California 0724-7\\checkpoint_temp_2500.pth\n",
      "Loaded logs/California 0724-7\\checkpoint_avg.pth\n"
     ]
    },
    {
     "name": "stderr",
     "output_type": "stream",
     "text": [
      "\r",
      "2500it [1:49:30,  2.93s/it]"
     ]
    },
    {
     "name": "stdout",
     "output_type": "stream",
     "text": [
      "Saved logs/California 0724-7\\checkpoint_best_mse.pth\n",
      "Loaded logs/California 0724-7\\checkpoint_temp_2500.pth\n",
      "iteration:2500 loss:0.2816435992717743 mse:0.2938798666000366\n"
     ]
    },
    {
     "name": "stderr",
     "output_type": "stream",
     "text": [
      "2549it [1:51:31,  2.17s/it]"
     ]
    },
    {
     "name": "stdout",
     "output_type": "stream",
     "text": [
      "Saved logs/California 0724-7\\checkpoint_temp_2550.pth\n",
      "Loaded logs/California 0724-7\\checkpoint_avg.pth\n"
     ]
    },
    {
     "name": "stderr",
     "output_type": "stream",
     "text": [
      "\r",
      "2550it [1:51:35,  2.78s/it]"
     ]
    },
    {
     "name": "stdout",
     "output_type": "stream",
     "text": [
      "Saved logs/California 0724-7\\checkpoint_best_mse.pth\n",
      "Loaded logs/California 0724-7\\checkpoint_temp_2550.pth\n",
      "iteration:2550 loss:0.27933502197265625 mse:0.2929418087005615\n"
     ]
    },
    {
     "name": "stderr",
     "output_type": "stream",
     "text": [
      "2599it [1:53:37,  2.59s/it]"
     ]
    },
    {
     "name": "stdout",
     "output_type": "stream",
     "text": [
      "Saved logs/California 0724-7\\checkpoint_temp_2600.pth\n",
      "Loaded logs/California 0724-7\\checkpoint_avg.pth\n"
     ]
    },
    {
     "name": "stderr",
     "output_type": "stream",
     "text": [
      "\r",
      "2600it [1:53:39,  2.46s/it]"
     ]
    },
    {
     "name": "stdout",
     "output_type": "stream",
     "text": [
      "Saved logs/California 0724-7\\checkpoint_best_mse.pth\n",
      "Loaded logs/California 0724-7\\checkpoint_temp_2600.pth\n",
      "iteration:2600 loss:0.31161263585090637 mse:0.2921021580696106\n"
     ]
    },
    {
     "name": "stderr",
     "output_type": "stream",
     "text": [
      "2649it [1:55:40,  2.60s/it]"
     ]
    },
    {
     "name": "stdout",
     "output_type": "stream",
     "text": [
      "Saved logs/California 0724-7\\checkpoint_temp_2650.pth\n",
      "Loaded logs/California 0724-7\\checkpoint_avg.pth\n"
     ]
    },
    {
     "name": "stderr",
     "output_type": "stream",
     "text": [
      "\r",
      "2650it [1:55:44,  3.07s/it]"
     ]
    },
    {
     "name": "stdout",
     "output_type": "stream",
     "text": [
      "Saved logs/California 0724-7\\checkpoint_best_mse.pth\n",
      "Loaded logs/California 0724-7\\checkpoint_temp_2650.pth\n",
      "iteration:2650 loss:0.2559383809566498 mse:0.29148679971694946\n"
     ]
    },
    {
     "name": "stderr",
     "output_type": "stream",
     "text": [
      "2699it [1:57:44,  2.56s/it]"
     ]
    },
    {
     "name": "stdout",
     "output_type": "stream",
     "text": [
      "Saved logs/California 0724-7\\checkpoint_temp_2700.pth\n",
      "Loaded logs/California 0724-7\\checkpoint_avg.pth\n"
     ]
    },
    {
     "name": "stderr",
     "output_type": "stream",
     "text": [
      "\r",
      "2700it [1:57:48,  3.04s/it]"
     ]
    },
    {
     "name": "stdout",
     "output_type": "stream",
     "text": [
      "Saved logs/California 0724-7\\checkpoint_best_mse.pth\n",
      "Loaded logs/California 0724-7\\checkpoint_temp_2700.pth\n",
      "iteration:2700 loss:0.29826921224594116 mse:0.28944456577301025\n"
     ]
    },
    {
     "name": "stderr",
     "output_type": "stream",
     "text": [
      "2749it [1:59:53,  2.80s/it]"
     ]
    },
    {
     "name": "stdout",
     "output_type": "stream",
     "text": [
      "Saved logs/California 0724-7\\checkpoint_temp_2750.pth\n",
      "Loaded logs/California 0724-7\\checkpoint_avg.pth\n"
     ]
    },
    {
     "name": "stderr",
     "output_type": "stream",
     "text": [
      "\r",
      "2750it [1:59:57,  3.29s/it]"
     ]
    },
    {
     "name": "stdout",
     "output_type": "stream",
     "text": [
      "Saved logs/California 0724-7\\checkpoint_best_mse.pth\n",
      "Loaded logs/California 0724-7\\checkpoint_temp_2750.pth\n",
      "iteration:2750 loss:0.3448115587234497 mse:0.2894221246242523\n"
     ]
    },
    {
     "name": "stderr",
     "output_type": "stream",
     "text": [
      "2799it [2:02:04,  2.74s/it]"
     ]
    },
    {
     "name": "stdout",
     "output_type": "stream",
     "text": [
      "Saved logs/California 0724-7\\checkpoint_temp_2800.pth\n",
      "Loaded logs/California 0724-7\\checkpoint_avg.pth\n"
     ]
    },
    {
     "name": "stderr",
     "output_type": "stream",
     "text": [
      "\r",
      "2800it [2:02:08,  3.28s/it]"
     ]
    },
    {
     "name": "stdout",
     "output_type": "stream",
     "text": [
      "Saved logs/California 0724-7\\checkpoint_best_mse.pth\n",
      "Loaded logs/California 0724-7\\checkpoint_temp_2800.pth\n",
      "iteration:2800 loss:0.27131789922714233 mse:0.28838202357292175\n"
     ]
    },
    {
     "name": "stderr",
     "output_type": "stream",
     "text": [
      "2849it [2:04:20,  2.56s/it]"
     ]
    },
    {
     "name": "stdout",
     "output_type": "stream",
     "text": [
      "Saved logs/California 0724-7\\checkpoint_temp_2850.pth\n",
      "Loaded logs/California 0724-7\\checkpoint_avg.pth\n"
     ]
    },
    {
     "name": "stderr",
     "output_type": "stream",
     "text": [
      "\r",
      "2850it [2:04:24,  3.04s/it]"
     ]
    },
    {
     "name": "stdout",
     "output_type": "stream",
     "text": [
      "Loaded logs/California 0724-7\\checkpoint_temp_2850.pth\n",
      "iteration:2850 loss:0.24961939454078674 mse:0.2898651659488678\n"
     ]
    },
    {
     "name": "stderr",
     "output_type": "stream",
     "text": [
      "2899it [2:06:30,  2.02s/it]"
     ]
    },
    {
     "name": "stdout",
     "output_type": "stream",
     "text": [
      "Saved logs/California 0724-7\\checkpoint_temp_2900.pth\n",
      "Loaded logs/California 0724-7\\checkpoint_avg.pth\n"
     ]
    },
    {
     "name": "stderr",
     "output_type": "stream",
     "text": [
      "\r",
      "2900it [2:06:34,  2.65s/it]"
     ]
    },
    {
     "name": "stdout",
     "output_type": "stream",
     "text": [
      "Saved logs/California 0724-7\\checkpoint_best_mse.pth\n",
      "Loaded logs/California 0724-7\\checkpoint_temp_2900.pth\n",
      "iteration:2900 loss:0.2716476619243622 mse:0.2868310809135437\n"
     ]
    },
    {
     "name": "stderr",
     "output_type": "stream",
     "text": [
      "2949it [2:08:42,  2.69s/it]"
     ]
    },
    {
     "name": "stdout",
     "output_type": "stream",
     "text": [
      "Saved logs/California 0724-7\\checkpoint_temp_2950.pth\n",
      "Loaded logs/California 0724-7\\checkpoint_avg.pth\n"
     ]
    },
    {
     "name": "stderr",
     "output_type": "stream",
     "text": [
      "\r",
      "2950it [2:08:46,  3.16s/it]"
     ]
    },
    {
     "name": "stdout",
     "output_type": "stream",
     "text": [
      "Saved logs/California 0724-7\\checkpoint_best_mse.pth\n",
      "Loaded logs/California 0724-7\\checkpoint_temp_2950.pth\n",
      "iteration:2950 loss:0.2431337535381317 mse:0.2849714756011963\n"
     ]
    },
    {
     "name": "stderr",
     "output_type": "stream",
     "text": [
      "2999it [2:11:01,  2.78s/it]"
     ]
    },
    {
     "name": "stdout",
     "output_type": "stream",
     "text": [
      "Saved logs/California 0724-7\\checkpoint_temp_3000.pth\n",
      "Loaded logs/California 0724-7\\checkpoint_avg.pth\n"
     ]
    },
    {
     "name": "stderr",
     "output_type": "stream",
     "text": [
      "\r",
      "3000it [2:11:05,  3.28s/it]"
     ]
    },
    {
     "name": "stdout",
     "output_type": "stream",
     "text": [
      "Saved logs/California 0724-7\\checkpoint_best_mse.pth\n",
      "Loaded logs/California 0724-7\\checkpoint_temp_3000.pth\n",
      "iteration:3000 loss:0.26360228657722473 mse:0.2841264605522156\n"
     ]
    },
    {
     "name": "stderr",
     "output_type": "stream",
     "text": [
      "3049it [2:13:07,  2.54s/it]"
     ]
    },
    {
     "name": "stdout",
     "output_type": "stream",
     "text": [
      "Saved logs/California 0724-7\\checkpoint_temp_3050.pth\n",
      "Loaded logs/California 0724-7\\checkpoint_avg.pth\n"
     ]
    },
    {
     "name": "stderr",
     "output_type": "stream",
     "text": [
      "\r",
      "3050it [2:13:11,  3.03s/it]"
     ]
    },
    {
     "name": "stdout",
     "output_type": "stream",
     "text": [
      "Saved logs/California 0724-7\\checkpoint_best_mse.pth\n",
      "Loaded logs/California 0724-7\\checkpoint_temp_3050.pth\n",
      "iteration:3050 loss:0.2523137629032135 mse:0.28327351808547974\n"
     ]
    },
    {
     "name": "stderr",
     "output_type": "stream",
     "text": [
      "3099it [2:15:19,  2.64s/it]"
     ]
    },
    {
     "name": "stdout",
     "output_type": "stream",
     "text": [
      "Saved logs/California 0724-7\\checkpoint_temp_3100.pth\n",
      "Loaded logs/California 0724-7\\checkpoint_avg.pth\n"
     ]
    },
    {
     "name": "stderr",
     "output_type": "stream",
     "text": [
      "\r",
      "3100it [2:15:23,  3.24s/it]"
     ]
    },
    {
     "name": "stdout",
     "output_type": "stream",
     "text": [
      "Saved logs/California 0724-7\\checkpoint_best_mse.pth\n",
      "Loaded logs/California 0724-7\\checkpoint_temp_3100.pth\n",
      "iteration:3100 loss:0.2881685793399811 mse:0.2825593650341034\n"
     ]
    },
    {
     "name": "stderr",
     "output_type": "stream",
     "text": [
      "3149it [2:17:34,  2.46s/it]"
     ]
    },
    {
     "name": "stdout",
     "output_type": "stream",
     "text": [
      "Saved logs/California 0724-7\\checkpoint_temp_3150.pth\n",
      "Loaded logs/California 0724-7\\checkpoint_avg.pth\n"
     ]
    },
    {
     "name": "stderr",
     "output_type": "stream",
     "text": [
      "\r",
      "3150it [2:17:38,  3.05s/it]"
     ]
    },
    {
     "name": "stdout",
     "output_type": "stream",
     "text": [
      "Saved logs/California 0724-7\\checkpoint_best_mse.pth\n",
      "Loaded logs/California 0724-7\\checkpoint_temp_3150.pth\n",
      "iteration:3150 loss:0.237249955534935 mse:0.2824382781982422\n"
     ]
    },
    {
     "name": "stderr",
     "output_type": "stream",
     "text": [
      "3199it [2:19:49,  2.37s/it]"
     ]
    },
    {
     "name": "stdout",
     "output_type": "stream",
     "text": [
      "Saved logs/California 0724-7\\checkpoint_temp_3200.pth\n",
      "Loaded logs/California 0724-7\\checkpoint_avg.pth\n"
     ]
    },
    {
     "name": "stderr",
     "output_type": "stream",
     "text": [
      "\r",
      "3200it [2:19:53,  3.02s/it]"
     ]
    },
    {
     "name": "stdout",
     "output_type": "stream",
     "text": [
      "Saved logs/California 0724-7\\checkpoint_best_mse.pth\n",
      "Loaded logs/California 0724-7\\checkpoint_temp_3200.pth\n",
      "iteration:3200 loss:0.2401886135339737 mse:0.28165891766548157\n"
     ]
    },
    {
     "name": "stderr",
     "output_type": "stream",
     "text": [
      "3249it [2:22:08,  2.86s/it]"
     ]
    },
    {
     "name": "stdout",
     "output_type": "stream",
     "text": [
      "Saved logs/California 0724-7\\checkpoint_temp_3250.pth\n",
      "Loaded logs/California 0724-7\\checkpoint_avg.pth\n"
     ]
    },
    {
     "name": "stderr",
     "output_type": "stream",
     "text": [
      "\r",
      "3250it [2:22:10,  2.68s/it]"
     ]
    },
    {
     "name": "stdout",
     "output_type": "stream",
     "text": [
      "Loaded logs/California 0724-7\\checkpoint_temp_3250.pth\n",
      "iteration:3250 loss:0.3201062083244324 mse:0.28308525681495667\n"
     ]
    },
    {
     "name": "stderr",
     "output_type": "stream",
     "text": [
      "3299it [2:24:24,  2.80s/it]"
     ]
    },
    {
     "name": "stdout",
     "output_type": "stream",
     "text": [
      "Saved logs/California 0724-7\\checkpoint_temp_3300.pth\n",
      "Loaded logs/California 0724-7\\checkpoint_avg.pth\n"
     ]
    },
    {
     "name": "stderr",
     "output_type": "stream",
     "text": [
      "\r",
      "3300it [2:24:28,  3.22s/it]"
     ]
    },
    {
     "name": "stdout",
     "output_type": "stream",
     "text": [
      "Loaded logs/California 0724-7\\checkpoint_temp_3300.pth\n",
      "iteration:3300 loss:0.2590964436531067 mse:0.2842000126838684\n"
     ]
    },
    {
     "name": "stderr",
     "output_type": "stream",
     "text": [
      "\r",
      "3300it [2:24:31,  2.63s/it]"
     ]
    },
    {
     "name": "stdout",
     "output_type": "stream",
     "text": [
      "BREAK. There is no improvment for 100 steps\n",
      "Best step:  3200\n",
      "Best Val MSE: 0.28166\n"
     ]
    },
    {
     "name": "stderr",
     "output_type": "stream",
     "text": [
      "\n"
     ]
    }
   ],
   "source": [
    "for batch in tqdm(lib.iterate_minibatches(train_x, train_y, batch_size=1024, \n",
    "                                                shuffle=True, epochs=300)):\n",
    "    \n",
    "    metrics = trainer.train_on_batch(*batch, device=device)\n",
    "    \n",
    "    loss_history3.append(metrics['loss'])\n",
    "\n",
    "    if trainer.step % report_frequency == 0:\n",
    "        trainer.save_checkpoint()\n",
    "        trainer.average_checkpoints(out_tag='avg')\n",
    "        trainer.load_checkpoint(tag='avg')\n",
    "        mse = trainer.evaluate_mse(\n",
    "            valid_x, valid_y, device=device, batch_size=1024)\n",
    "\n",
    "        if mse < best_mse:\n",
    "            best_mse = mse\n",
    "            best_step_mse = trainer.step\n",
    "            trainer.save_checkpoint(tag='best_mse')\n",
    "        mse_history3.append(mse)\n",
    "        \n",
    "        trainer.load_checkpoint()  # last\n",
    "        trainer.remove_old_temp_checkpoints()\n",
    "        \n",
    "        print(\"iteration:{} loss:{} mse:{}\".format(trainer.step, metrics['loss'], mse))\n",
    "#         clear_output(True)\n",
    "#         plt.figure(figsize=[18, 6])\n",
    "#         plt.subplot(1, 2, 1)\n",
    "#         plt.plot(loss_history)\n",
    "#         plt.title('Loss')\n",
    "#         plt.grid()\n",
    "#         plt.subplot(1, 2, 2)\n",
    "#         plt.plot(mse_history)\n",
    "#         plt.title('MSE')\n",
    "#         plt.grid()\n",
    "#         plt.show()\n",
    "#         print(\"Loss %.5f\" % (metrics['loss']))\n",
    "#         print(\"Val MSE: %0.5f\" % (mse))\n",
    "    if trainer.step > best_step_mse + early_stopping_rounds:\n",
    "        print('BREAK. There is no improvment for {} steps'.format(early_stopping_rounds))\n",
    "        print(\"Best step: \", best_step_mse)\n",
    "        print(\"Best Val MSE: %0.5f\" % (best_mse))\n",
    "        break"
   ]
  },
  {
   "cell_type": "code",
   "execution_count": 80,
   "metadata": {},
   "outputs": [
    {
     "name": "stdout",
     "output_type": "stream",
     "text": [
      "RMSE: 0.5495582818984985\n",
      "Pseudo R^2: 0.7069604632274493\n"
     ]
    }
   ],
   "source": [
    "y_pred3 = trainer.get_prediction(test_x, test_y, device=device)\n",
    "print('RMSE: {}'.format(np.sqrt(mean_squared_error(test_y, y_pred3))))\n",
    "print('Pseudo R^2: {}'.format(getpr2(test_y, y_pred3)))"
   ]
  },
  {
   "cell_type": "code",
   "execution_count": 81,
   "metadata": {},
   "outputs": [
    {
     "data": {
      "image/png": "[encoded data removed]",
      "text/plain": [
       "<Figure size 360x360 with 1 Axes>"
      ]
     },
     "metadata": {
      "needs_background": "light"
     },
     "output_type": "display_data"
    }
   ],
   "source": [
    "# Observed y vs fitted y\n",
    "y_df = pd.DataFrame({'obsy':test_y, 'predy':y_pred3})\n",
    "sns.relplot(x='obsy', y='predy', data=y_df, color=\"mediumturquoise\")\n",
    "plt.plot([-2, 3.2], [-2, 3.2], color=\"slateblue\")\n",
    "plt.title(\"Observed y vs fitted y in NODE case 2\");"
   ]
  },
  {
   "cell_type": "code",
   "execution_count": 82,
   "metadata": {},
   "outputs": [
    {
     "name": "stdout",
     "output_type": "stream",
     "text": [
      "1.8418441\n",
      "-1.2844582\n"
     ]
    }
   ],
   "source": [
    "print(np.max(y_pred3))\n",
    "print(np.min(y_pred3))"
   ]
  },
  {
   "cell_type": "code",
   "execution_count": 83,
   "metadata": {},
   "outputs": [
    {
     "data": {
      "image/png": "[encoded data removed]",
      "text/plain": [
       "<Figure size 432x288 with 1 Axes>"
      ]
     },
     "metadata": {
      "needs_background": "light"
     },
     "output_type": "display_data"
    }
   ],
   "source": [
    "plt.plot(torch.stack(loss_history3).detach().numpy());"
   ]
  },
  {
   "cell_type": "code",
   "execution_count": null,
   "metadata": {},
   "outputs": [],
   "source": []
  },
  {
   "cell_type": "code",
   "execution_count": null,
   "metadata": {},
   "outputs": [],
   "source": []
  },
  {
   "cell_type": "markdown",
   "metadata": {},
   "source": [
    "#### initialize_response_를 normal 대신 uniform(min(train_y), max(train_y))로"
   ]
  },
  {
   "cell_type": "code",
   "execution_count": 6,
   "metadata": {},
   "outputs": [
    {
     "data": {
      "text/plain": [
       "array([107300., 135300., 117300., ..., 153100., 158600.,  92400.])"
      ]
     },
     "execution_count": 6,
     "metadata": {},
     "output_type": "execute_result"
    }
   ],
   "source": [
    "train_y"
   ]
  },
  {
   "cell_type": "code",
   "execution_count": 7,
   "metadata": {},
   "outputs": [
    {
     "data": {
      "text/plain": [
       "14999.0"
      ]
     },
     "execution_count": 7,
     "metadata": {},
     "output_type": "execute_result"
    }
   ],
   "source": [
    "np.min(train_y)"
   ]
  },
  {
   "cell_type": "code",
   "execution_count": 8,
   "metadata": {},
   "outputs": [
    {
     "data": {
      "text/plain": [
       "500000.0"
      ]
     },
     "execution_count": 8,
     "metadata": {},
     "output_type": "execute_result"
    }
   ],
   "source": [
    "np.max(train_y)"
   ]
  },
  {
   "cell_type": "code",
   "execution_count": 13,
   "metadata": {},
   "outputs": [],
   "source": [
    "in_features = train_x.shape[1]\n",
    "\n",
    "model = nn.Sequential(\n",
    "    lib.DenseBlock(in_features, 128, num_layers=3, tree_dim=3, depth=6, flatten_output=False,\n",
    "                   choice_function=lib.entmax15, bin_function=lib.entmoid15, \n",
    "                   ir = 'uniform', initialize_response_ = nn.init.uniform_, ir_min=np.min(train_y), ir_max=np.max(train_y)),\n",
    "    lib.Lambda(lambda x: x[..., 0].mean(dim=-1)),  # average first channels of every tree\n",
    "    \n",
    ").to(device)\n",
    "\n",
    "# with torch.no_grad():\n",
    "#     res = model(torch.as_tensor(train_x[:5000], device=device, dtype=torch.float32))\n",
    "    # trigger data-aware init\n",
    "    \n",
    "if torch.cuda.device_count() > 1:\n",
    "    model = nn.DataParallel(model)\n",
    "\n",
    "experiment_name = 'California - exp1'  # experiment 이름 지정\n",
    "print(\"experiment:\", experiment_name)    \n",
    "\n",
    "optimizer_params = { 'nus':(0.7, 1.0), 'betas':(0.95, 0.998) }\n",
    "trainer = lib.Trainer(\n",
    "    model=model, loss_function=F.mse_loss,\n",
    "    experiment_name=experiment_name,\n",
    "    warm_start=False,\n",
    "    Optimizer=QHAdam,\n",
    "    optimizer_params=optimizer_params,\n",
    "    verbose=True,\n",
    "    n_last_checkpoints=5\n",
    ")\n",
    "\n",
    "loss_history3, mse_history3 = [], []\n",
    "best_mse = float('inf')\n",
    "best_step_mse = 0\n",
    "early_stopping_rounds = 100\n",
    "report_frequency = 50"
   ]
  },
  {
   "cell_type": "code",
   "execution_count": 22,
   "metadata": {
    "scrolled": true
   },
   "outputs": [
    {
     "name": "stderr",
     "output_type": "stream",
     "text": [
      "34it [01:17,  2.34s/it]"
     ]
    },
    {
     "name": "stdout",
     "output_type": "stream",
     "text": [
      "Saved logs/California - exp1\\checkpoint_temp_100.pth\n",
      "Loaded logs/California - exp1\\checkpoint_avg.pth\n"
     ]
    },
    {
     "name": "stderr",
     "output_type": "stream",
     "text": [
      "\r",
      "35it [01:21,  2.79s/it]"
     ]
    },
    {
     "name": "stdout",
     "output_type": "stream",
     "text": [
      "Saved logs/California - exp1\\checkpoint_best_mse.pth\n",
      "Loaded logs/California - exp1\\checkpoint_temp_100.pth\n",
      "iteration:100 loss:9016239104.0 mse:9342539512.438839\n"
     ]
    },
    {
     "name": "stderr",
     "output_type": "stream",
     "text": [
      "84it [03:13,  2.34s/it]"
     ]
    },
    {
     "name": "stdout",
     "output_type": "stream",
     "text": [
      "Saved logs/California - exp1\\checkpoint_temp_150.pth\n",
      "Loaded logs/California - exp1\\checkpoint_avg.pth\n"
     ]
    },
    {
     "name": "stderr",
     "output_type": "stream",
     "text": [
      "\r",
      "85it [03:17,  2.93s/it]"
     ]
    },
    {
     "name": "stdout",
     "output_type": "stream",
     "text": [
      "Saved logs/California - exp1\\checkpoint_best_mse.pth\n",
      "Loaded logs/California - exp1\\checkpoint_temp_150.pth\n",
      "iteration:150 loss:8742828032.0 mse:9153186364.540676\n"
     ]
    },
    {
     "name": "stderr",
     "output_type": "stream",
     "text": [
      "134it [05:11,  2.39s/it]"
     ]
    },
    {
     "name": "stdout",
     "output_type": "stream",
     "text": [
      "Saved logs/California - exp1\\checkpoint_temp_200.pth\n",
      "Loaded logs/California - exp1\\checkpoint_avg.pth\n"
     ]
    },
    {
     "name": "stderr",
     "output_type": "stream",
     "text": [
      "\r",
      "135it [05:16,  2.95s/it]"
     ]
    },
    {
     "name": "stdout",
     "output_type": "stream",
     "text": [
      "Saved logs/California - exp1\\checkpoint_best_mse.pth\n",
      "Loaded logs/California - exp1\\checkpoint_temp_200.pth\n",
      "iteration:200 loss:8033401856.0 mse:8940135418.618301\n"
     ]
    },
    {
     "name": "stderr",
     "output_type": "stream",
     "text": [
      "184it [07:10,  2.28s/it]"
     ]
    },
    {
     "name": "stdout",
     "output_type": "stream",
     "text": [
      "Saved logs/California - exp1\\checkpoint_temp_250.pth\n",
      "Loaded logs/California - exp1\\checkpoint_avg.pth\n"
     ]
    },
    {
     "name": "stderr",
     "output_type": "stream",
     "text": [
      "\r",
      "185it [07:14,  2.89s/it]"
     ]
    },
    {
     "name": "stdout",
     "output_type": "stream",
     "text": [
      "Saved logs/California - exp1\\checkpoint_best_mse.pth\n",
      "Loaded logs/California - exp1\\checkpoint_temp_250.pth\n",
      "iteration:250 loss:7884489728.0 mse:8749479628.227919\n"
     ]
    },
    {
     "name": "stderr",
     "output_type": "stream",
     "text": [
      "234it [09:13,  2.00s/it]"
     ]
    },
    {
     "name": "stdout",
     "output_type": "stream",
     "text": [
      "Saved logs/California - exp1\\checkpoint_temp_300.pth\n",
      "Loaded logs/California - exp1\\checkpoint_avg.pth\n"
     ]
    },
    {
     "name": "stderr",
     "output_type": "stream",
     "text": [
      "\r",
      "235it [09:18,  2.64s/it]"
     ]
    },
    {
     "name": "stdout",
     "output_type": "stream",
     "text": [
      "Saved logs/California - exp1\\checkpoint_best_mse.pth\n",
      "Loaded logs/California - exp1\\checkpoint_temp_300.pth\n",
      "iteration:300 loss:8525501440.0 mse:8365298452.840899\n"
     ]
    },
    {
     "name": "stderr",
     "output_type": "stream",
     "text": [
      "260it [10:19,  2.38s/it]\n"
     ]
    }
   ],
   "source": [
    "for batch in tqdm(lib.iterate_minibatches(train_x, train_y, batch_size=1024, \n",
    "                                                shuffle=True, epochs=20)):\n",
    "    \n",
    "    metrics = trainer.train_on_batch(*batch, device=device)\n",
    "    \n",
    "    loss_history3.append(metrics['loss'])\n",
    "\n",
    "    if trainer.step % report_frequency == 0:\n",
    "        trainer.save_checkpoint()\n",
    "        trainer.average_checkpoints(out_tag='avg')\n",
    "        trainer.load_checkpoint(tag='avg')\n",
    "        mse = trainer.evaluate_mse(\n",
    "            valid_x, valid_y, device=device, batch_size=1024)\n",
    "\n",
    "        if mse < best_mse:\n",
    "            best_mse = mse\n",
    "            best_step_mse = trainer.step\n",
    "            trainer.save_checkpoint(tag='best_mse')\n",
    "        mse_history3.append(mse)\n",
    "        \n",
    "        trainer.load_checkpoint()  # last\n",
    "        trainer.remove_old_temp_checkpoints()\n",
    "        \n",
    "        print(\"iteration:{} loss:{} mse:{}\".format(trainer.step, metrics['loss'], mse))\n",
    "#         clear_output(True)\n",
    "#         plt.figure(figsize=[18, 6])\n",
    "#         plt.subplot(1, 2, 1)\n",
    "#         plt.plot(loss_history)\n",
    "#         plt.title('Loss')\n",
    "#         plt.grid()\n",
    "#         plt.subplot(1, 2, 2)\n",
    "#         plt.plot(mse_history)\n",
    "#         plt.title('MSE')\n",
    "#         plt.grid()\n",
    "#         plt.show()\n",
    "#         print(\"Loss %.5f\" % (metrics['loss']))\n",
    "#         print(\"Val MSE: %0.5f\" % (mse))\n",
    "    if trainer.step > best_step_mse + early_stopping_rounds:\n",
    "        print('BREAK. There is no improvment for {} steps'.format(early_stopping_rounds))\n",
    "        print(\"Best step: \", best_step_mse)\n",
    "        print(\"Best Val MSE: %0.5f\" % (best_mse))\n",
    "        break"
   ]
  },
  {
   "cell_type": "code",
   "execution_count": 23,
   "metadata": {},
   "outputs": [
    {
     "name": "stdout",
     "output_type": "stream",
     "text": [
      "RMSE: 90953.34008222909\n",
      "Pseudo R^2: 0.15286190669737176\n"
     ]
    }
   ],
   "source": [
    "y_pred3 = trainer.get_prediction(test_x, test_y, device=device)\n",
    "print('RMSE: {}'.format(np.sqrt(mean_squared_error(test_y, y_pred3))))\n",
    "print('Pseudo R^2: {}'.format(getpr2(test_y, y_pred3)))"
   ]
  },
  {
   "cell_type": "code",
   "execution_count": 24,
   "metadata": {},
   "outputs": [
    {
     "data": {
      "image/png": "[encoded data removed]",
      "text/plain": [
       "<Figure size 360x360 with 1 Axes>"
      ]
     },
     "metadata": {
      "needs_background": "light"
     },
     "output_type": "display_data"
    }
   ],
   "source": [
    "# Observed y vs fitted y\n",
    "y_df = pd.DataFrame({'obsy':test_y, 'predy':y_pred3})\n",
    "sns.relplot(x='obsy', y='predy', data=y_df, color=\"mediumturquoise\")\n",
    "plt.plot([14000, 500010], [14000, 500010], color=\"slateblue\")\n",
    "plt.title(\"Observed y vs fitted y in NODE case 2\");"
   ]
  },
  {
   "cell_type": "code",
   "execution_count": 25,
   "metadata": {},
   "outputs": [
    {
     "name": "stdout",
     "output_type": "stream",
     "text": [
      "155292.8\n",
      "269715.72\n"
     ]
    }
   ],
   "source": [
    "print(np.min(y_pred3))\n",
    "print(np.max(y_pred3))"
   ]
  },
  {
   "cell_type": "code",
   "execution_count": 21,
   "metadata": {},
   "outputs": [
    {
     "name": "stdout",
     "output_type": "stream",
     "text": [
      "32500.0\n",
      "500000.0\n"
     ]
    }
   ],
   "source": [
    "print(np.min(test_y))\n",
    "print(np.max(test_y))"
   ]
  }
 ],
 "metadata": {
  "kernelspec": {
   "display_name": "Python 3",
   "language": "python",
   "name": "python3"
  },
  "language_info": {
   "codemirror_mode": {
    "name": "ipython",
    "version": 3
   },
   "file_extension": ".py",
   "mimetype": "text/x-python",
   "name": "python",
   "nbconvert_exporter": "python",
   "pygments_lexer": "ipython3",
   "version": "3.8.8"
  }
 },
 "nbformat": 4,
 "nbformat_minor": 2
}
